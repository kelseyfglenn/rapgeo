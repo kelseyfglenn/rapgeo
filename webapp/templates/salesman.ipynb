{
 "metadata": {
  "language_info": {
   "codemirror_mode": {
    "name": "ipython",
    "version": 3
   },
   "file_extension": ".py",
   "mimetype": "text/x-python",
   "name": "python",
   "nbconvert_exporter": "python",
   "pygments_lexer": "ipython3",
   "version": "3.7.7-final"
  },
  "orig_nbformat": 2,
  "kernelspec": {
   "name": "python_defaultSpec_1597853401758",
   "display_name": "Python 3.7.7 64-bit ('base': conda)"
  }
 },
 "nbformat": 4,
 "nbformat_minor": 2,
 "cells": [
  {
   "cell_type": "code",
   "execution_count": 1,
   "metadata": {},
   "outputs": [],
   "source": [
    "def one_stop(mat, origin, target):\n",
    "    \n",
    "    min_dist = mat[origin][target]\n",
    "    \n",
    "    # check every row's distance from origin city and add its distance to target city\n",
    "    for stop, row in enumerate(mat):\n",
    "        one_stop = mat[origin][stop] + mat[stop][target]\n",
    "        if one_stop < min_dist: \n",
    "            min_dist = one_stop\n",
    "    \n",
    "    return min_dist"
   ]
  },
  {
   "cell_type": "code",
   "execution_count": 2,
   "metadata": {},
   "outputs": [
    {
     "output_type": "execute_result",
     "data": {
      "text/plain": "[[0, 4, 9, 3, 1, 2],\n [4, 0, 2, 1, 4, 2],\n [9, 2, 0, 7, 2, 1],\n [3, 1, 7, 0, 6, 6],\n [1, 4, 2, 6, 0, 2],\n [2, 2, 1, 6, 2, 0]]"
     },
     "metadata": {},
     "execution_count": 2
    }
   ],
   "source": [
    "test = [[0, 4, 9, 3, 1, 2], [4, 0, 2, 1, 4, 2], [9, 2, 0, 7, 2, 1], [3, 1, 7, 0, 6, 6], [1, 4, 2, 6, 0, 2], [2, 2, 1, 6, 2, 0]]\n",
    "test"
   ]
  },
  {
   "cell_type": "code",
   "execution_count": 7,
   "metadata": {},
   "outputs": [
    {
     "output_type": "execute_result",
     "data": {
      "text/plain": "0"
     },
     "metadata": {},
     "execution_count": 7
    }
   ],
   "source": [
    "one_stop(test, 3, 3)"
   ]
  },
  {
   "cell_type": "code",
   "execution_count": 8,
   "metadata": {},
   "outputs": [],
   "source": [
    "def two_stop(mat, origin, target):\n",
    "    \n",
    "    min_dist = mat[origin][target]\n",
    "    \n",
    "    # check every row's distance from origin city and add its distance to target city\n",
    "    for stop_one, row in enumerate(mat):\n",
    "        for stop_two, row in enumerate(mat):\n",
    "            two_stop = mat[origin][stop_one] + mat[stop_one][stop_two] + mat[stop_two][target]\n",
    "            if two_stop < min_dist: \n",
    "                min_dist = two_stop\n",
    "        \n",
    "    return min_dist"
   ]
  },
  {
   "cell_type": "code",
   "execution_count": 14,
   "metadata": {},
   "outputs": [
    {
     "output_type": "execute_result",
     "data": {
      "text/plain": "3"
     },
     "metadata": {},
     "execution_count": 14
    }
   ],
   "source": [
    "two_stop(test, 3, 2)"
   ]
  },
  {
   "cell_type": "code",
   "execution_count": 17,
   "metadata": {},
   "outputs": [],
   "source": [
    "# max n-1 stops\n",
    "def any_stop(mat, origin, target):\n",
    "    min_dist = mat[origin][target]\n",
    "    for stop in range(len(mat)):\n",
    "        dist = one_stop(mat, origin, stop) + one_stop(mat, stop, target)\n",
    "        if dist < min_dist:\n",
    "            min_dist = dist\n",
    "    any_stop()\n",
    "    return min_dist"
   ]
  },
  {
   "cell_type": "code",
   "execution_count": 18,
   "metadata": {},
   "outputs": [
    {
     "output_type": "execute_result",
     "data": {
      "text/plain": "3"
     },
     "metadata": {},
     "execution_count": 18
    }
   ],
   "source": [
    "any_stop(test, 3, 2)"
   ]
  },
  {
   "cell_type": "code",
   "execution_count": null,
   "metadata": {},
   "outputs": [],
   "source": []
  }
 ]
}