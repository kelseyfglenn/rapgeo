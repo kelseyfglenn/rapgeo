{
 "metadata": {
  "language_info": {
   "codemirror_mode": {
    "name": "ipython",
    "version": 3
   },
   "file_extension": ".py",
   "mimetype": "text/x-python",
   "name": "python",
   "nbconvert_exporter": "python",
   "pygments_lexer": "ipython3",
   "version": 3
  },
  "orig_nbformat": 2,
  "kernelspec": {
   "name": "python_defaultSpec_1597123380046",
   "display_name": "Python 3.7.7 64-bit ('base': conda)"
  }
 },
 "nbformat": 4,
 "nbformat_minor": 2,
 "cells": [
  {
   "cell_type": "markdown",
   "metadata": {},
   "source": [
    "### Module and Data Imports"
   ]
  },
  {
   "cell_type": "code",
   "execution_count": 30,
   "metadata": {},
   "outputs": [],
   "source": [
    "import pickle as pkl\n",
    "import re\n",
    "import string\n",
    "\n",
    "import pandas as pd\n",
    "\n",
    "from nltk import word_tokenize\n",
    "from nltk.corpus import stopwords\n",
    "\n",
    "from sklearn.feature_extraction.text import TfidfVectorizer\n",
    "\n",
    "from sklearn.model_selection import train_test_split"
   ]
  },
  {
   "cell_type": "code",
   "execution_count": 2,
   "metadata": {},
   "outputs": [],
   "source": [
    "\"\"\"\n",
    "Load artist names.\n",
    "\"\"\"\n",
    "with open('artist_names.pkl', 'rb') as f: \n",
    "    artists = pkl.load(f)"
   ]
  },
  {
   "cell_type": "code",
   "execution_count": 3,
   "metadata": {},
   "outputs": [],
   "source": [
    "\"\"\"\n",
    "Load artist API paths. \n",
    "\"\"\"\n",
    "with open('all_artist_paths.pkl', 'rb') as f:\n",
    "    all_artist_paths = pkl.load(f)"
   ]
  },
  {
   "cell_type": "code",
   "execution_count": 4,
   "metadata": {},
   "outputs": [],
   "source": [
    "\"\"\"\n",
    "Load song paths for every artist. \n",
    "\"\"\"\n",
    "with open('all_song_paths.pkl', 'rb') as f: \n",
    "    all_song_paths = pkl.load(f)"
   ]
  },
  {
   "cell_type": "code",
   "execution_count": 5,
   "metadata": {},
   "outputs": [],
   "source": [
    "\"\"\"\n",
    "Load all song lyrics.\n",
    "\"\"\"\n",
    "with open('all_song_lyrics_v2.pkl', 'rb') as f: \n",
    "    all_song_lyrics = pkl.load(f)"
   ]
  },
  {
   "cell_type": "markdown",
   "metadata": {},
   "source": [
    "### Data Cleaning\n",
    "\n",
    "TO-DO: \n",
    "* Remove non-songs\n",
    "* Cut down to only artists' verses if possible"
   ]
  },
  {
   "cell_type": "code",
   "execution_count": 6,
   "metadata": {},
   "outputs": [],
   "source": [
    "\"\"\"\n",
    "STEP 1: CONVERT FROM LYRICS TO STANDARD TEXT\n",
    "\n",
    "Rebuild the lyrics dict with cleaned, confirmed songs: \n",
    "1) Confirm the artist has a song\n",
    "2) Confirm the lyrics are to a song (not an interview transcript, etc)\n",
    "3) Confirm it is at least 16 lines (1+ standard verses)\n",
    "4) Replace bracketed text denoting verse/chorus separation\n",
    "\n",
    "NOTES: \n",
    "* removed verse markers for initial MVP, but may later need them to separate artist verses\n",
    "* potential interference from repeated/chorus heavy rappers, could consider dropping repeat choruses\n",
    "* numeric and bracket remover doesn't seem to be replacing properly \n",
    "\"\"\"\n",
    "cleaned_lyrics = {}\n",
    "for artist in all_song_lyrics.keys():\n",
    "    \n",
    "    # confirm artist has a song\n",
    "    if all_song_lyrics[artist] != {}:\n",
    "        \n",
    "        # add the artist and create a dict for their songs\n",
    "        cleaned_lyrics[artist] = {}\n",
    "        for song in all_song_lyrics[artist].keys():\n",
    "            is_song = False\n",
    "            is_sixteen = False\n",
    "            # if there is a verse or chorus marker, add the song to the artist's dict\n",
    "            if '[Verse' in all_song_lyrics[artist][song] or '[Chorus' in all_song_lyrics[artist][song]:\n",
    "                is_song = True\n",
    "            # if the song has at least 16 lines (standard verse)\n",
    "            if all_song_lyrics[artist][song].count('\\n') > 14:   \n",
    "                is_sixteen = True\n",
    "            \n",
    "            if is_song and is_sixteen:\n",
    "                # replace bracketed text with a space and store to cleaned list\n",
    "                cleaned_lyrics[artist][song] = re.sub('\\[.*?\\]', ' ', all_song_lyrics[artist][song])\n",
    "                # alphanumerics\n",
    "                cleaned_lyrics[artist][song] = re.sub('\\w*\\d\\w*', ' ', cleaned_lyrics[artist][song])\n",
    "                # remove punctuation and capitalization\n",
    "                cleaned_lyrics[artist][song] = re.sub('[%s]' % re.escape(string.punctuation), ' ', cleaned_lyrics[artist][song].lower())\n",
    "\n",
    "            "
   ]
  },
  {
   "cell_type": "code",
   "execution_count": 23,
   "metadata": {},
   "outputs": [
    {
     "output_type": "execute_result",
     "data": {
      "text/plain": "       artist            song  \\\n0   03 Greedo  /songs/3546392   \n1   03 Greedo  /songs/3801456   \n2   03 Greedo  /songs/3545295   \n3   03 Greedo  /songs/4485607   \n4   03 Greedo  /songs/3801450   \n..        ...             ...   \n5      Zion I   /songs/347240   \n6      Zion I    /songs/48980   \n7      Zion I    /songs/48968   \n8      Zion I    /songs/48960   \n9      Zion I    /songs/48951   \n\n                                               lyrics  \n0    \\nthree purple hearts\\nthree purple hearts\\nt...  \n1    \\ni ve been meditating with the money\\nprayin...  \n2    \\nacetheface\\n   havin  it  havin  it  havin ...  \n3    \\nyou know me out here  are you seeing \\nkeep...  \n4    \\nif i go back\\nturbo\\n\\n \\ngo back to jail  ...  \n..                                                ...  \n5    yeah    \\n i got    \\n go    \\n\\n \\nain t not...  \n6    \\nnow in a world full of pain  hard strugglin...  \n7    \\nzion i crew\\namp live  dj kg  zion\\nwe re l...  \n8    \\nthis ain t for the weak hearted  go on and ...  \n9    \\nfeel my finger paint\\ncolor to stimulate ya...  \n\n[18278 rows x 3 columns]",
      "text/html": "<div>\n<style scoped>\n    .dataframe tbody tr th:only-of-type {\n        vertical-align: middle;\n    }\n\n    .dataframe tbody tr th {\n        vertical-align: top;\n    }\n\n    .dataframe thead th {\n        text-align: right;\n    }\n</style>\n<table border=\"1\" class=\"dataframe\">\n  <thead>\n    <tr style=\"text-align: right;\">\n      <th></th>\n      <th>artist</th>\n      <th>song</th>\n      <th>lyrics</th>\n    </tr>\n  </thead>\n  <tbody>\n    <tr>\n      <th>0</th>\n      <td>03 Greedo</td>\n      <td>/songs/3546392</td>\n      <td>\\nthree purple hearts\\nthree purple hearts\\nt...</td>\n    </tr>\n    <tr>\n      <th>1</th>\n      <td>03 Greedo</td>\n      <td>/songs/3801456</td>\n      <td>\\ni ve been meditating with the money\\nprayin...</td>\n    </tr>\n    <tr>\n      <th>2</th>\n      <td>03 Greedo</td>\n      <td>/songs/3545295</td>\n      <td>\\nacetheface\\n   havin  it  havin  it  havin ...</td>\n    </tr>\n    <tr>\n      <th>3</th>\n      <td>03 Greedo</td>\n      <td>/songs/4485607</td>\n      <td>\\nyou know me out here  are you seeing \\nkeep...</td>\n    </tr>\n    <tr>\n      <th>4</th>\n      <td>03 Greedo</td>\n      <td>/songs/3801450</td>\n      <td>\\nif i go back\\nturbo\\n\\n \\ngo back to jail  ...</td>\n    </tr>\n    <tr>\n      <th>...</th>\n      <td>...</td>\n      <td>...</td>\n      <td>...</td>\n    </tr>\n    <tr>\n      <th>5</th>\n      <td>Zion I</td>\n      <td>/songs/347240</td>\n      <td>yeah    \\n i got    \\n go    \\n\\n \\nain t not...</td>\n    </tr>\n    <tr>\n      <th>6</th>\n      <td>Zion I</td>\n      <td>/songs/48980</td>\n      <td>\\nnow in a world full of pain  hard strugglin...</td>\n    </tr>\n    <tr>\n      <th>7</th>\n      <td>Zion I</td>\n      <td>/songs/48968</td>\n      <td>\\nzion i crew\\namp live  dj kg  zion\\nwe re l...</td>\n    </tr>\n    <tr>\n      <th>8</th>\n      <td>Zion I</td>\n      <td>/songs/48960</td>\n      <td>\\nthis ain t for the weak hearted  go on and ...</td>\n    </tr>\n    <tr>\n      <th>9</th>\n      <td>Zion I</td>\n      <td>/songs/48951</td>\n      <td>\\nfeel my finger paint\\ncolor to stimulate ya...</td>\n    </tr>\n  </tbody>\n</table>\n<p>18278 rows × 3 columns</p>\n</div>"
     },
     "metadata": {},
     "execution_count": 23
    }
   ],
   "source": [
    "\"\"\"\n",
    "Cast to DF \n",
    "\"\"\"\n",
    "# Collect all lyrics in DataFrame\n",
    "song_dfs = []\n",
    "for artist in cleaned_lyrics.keys():\n",
    "    df = pd.DataFrame([[artist, item[0], item[1]] for item in cleaned_lyrics[artist].items()], columns=['artist', 'song', 'lyrics'])\n",
    "    song_dfs.append(df)\n",
    "all_lyrics_df = pd.concat(song_dfs)\n",
    "\n",
    "all_lyrics_df"
   ]
  },
  {
   "cell_type": "code",
   "execution_count": 25,
   "metadata": {},
   "outputs": [],
   "source": [
    "# Train-Test Split\n",
    "X = all_lyrics_df.lyrics\n",
    "y = all_lyrics_df.song\n"
   ]
  },
  {
   "cell_type": "code",
   "execution_count": 27,
   "metadata": {},
   "outputs": [],
   "source": [
    "# Generate TF-IDF Matrix\n",
    "vectorizer = TfidfVectorizer(stop_words='english')\n",
    "X_tfidf = vectorizer.fit_transform(X)\n"
   ]
  },
  {
   "cell_type": "code",
   "execution_count": 32,
   "metadata": {},
   "outputs": [
    {
     "output_type": "execute_result",
     "data": {
      "text/plain": "(18278, 114747)"
     },
     "metadata": {},
     "execution_count": 32
    }
   ],
   "source": [
    "X_tfidf.shape"
   ]
  },
  {
   "cell_type": "code",
   "execution_count": 21,
   "metadata": {},
   "outputs": [
    {
     "output_type": "execute_result",
     "data": {
      "text/plain": "75"
     },
     "metadata": {},
     "execution_count": 21
    }
   ],
   "source": [
    "x = '[Intro: Nickelus F]\\nNiggas in the city hating me man they tripping\\nWhen I\\'m the only one that\\'s really spitting\\nMy nigga Lil Lee the only one that\\'s really gripping\\nWhy you dap me up acting like like we cool if you don\\'t feel him nigga?\\nUh, I\\'m bringing back hip hop\\nMe and my nigga Drake\\nVA, Toronto, Hip-Hop\\n\\n[Verse 1: Nickelus F]\\nAiight let me take my jacket off\\nUnlace the Timbs, here again comes the jabberjaw\\nThis time I\\'m blabbing on\\nThese rappers that feel a certain way but they give me dap and all\\nMad cuz the freestyle iller than they whole catalog\\nI got the gift like Santa Claus\\nFlow got spring like a catapult\\nMatter fact the flow Supreme like Diana Ross\\nI\\'m at the do\\' like a deer with the antlers off\\nNiggas acting like Scummy was they nigga\\nWouldn\\'t even give my man a 12 bar feature\\nI know who you are cause he wanted me to eat ya\\nI said nah lets keep it peaceful\\nMy nigga was a true weed source\\nHe gave it to us for a cheap cost, at prices we all could eat off\\nA real street dog\\nThe type of nigga that y\\'all niggas be studying learning how to get street off\\nWe have an impostor, alert the doctor\\nBout to hit him up with the chopper like Blaka\\nShock em like Blanka from Street Fighter, heat got a\\nHurricane kick, murder everything quick\\nLook, my new Ryu nine is stupendous\\nWhy do guys choose my crew to pick wit\\nMy crew lie you guys into ditches\\nI said it and meant it the Scorpio\\'s Mind has many dimensions\\nI\\'ll say it in intent, sentence, indent, on instant pimpin\\nHope your listenin\\' to my diction\\nIf you are then you now should be itchin\\'\\nThat it\\'s crack we placed in your stereo system\\nYeah, I be at your burial trippin\\'\\nNickelus F from Richmond, VA\\nThe Scorpio\\'s Mind is not a game to play wit all day\\n\\n[Verse 2: Drake]\\nI\\'ve been hated by many, wanted by plenty\\nDisliked by some, but confronted by none\\nSince they don\\'t show me sincerity, I load up, lock up\\nTake shots at em I guess you could call it a parody\\nAnd compared to D\\nThey one-fourth from watermelon to a quarter felon, dude you a pear to me\\nIf that\\'s not how it is it\\'s how it appear to be\\nYou got blind heaters, in my sweats is a mind reader\\nAnd when the psychic get to touching my palm\\nSeein\\' your physical, the things that you never say to me visible\\nEspecially when one of your artists feeling threatened\\nCause I\\'m harnessing a weapon, won\\'t you pardon my reflection\\nMirror, mirror tell me why they wanna get and scrimmage\\nAnd play around, to perfection I\\'m the spitting image\\nMy verbal camp is vivid, I told you I\\'m spitting image\\nIt seems we often want to start but never get to finish\\nMy verbal campus is Villanova, and those of you feelin Hova\\nAnd writing college rhymes, look the thrill is over\\nLet me assist you like a specialist\\nSo you can pull it back and try catch the metaphors and the rest of this\\nIt\\'s not a problem wit X, I guess I\\'m a pessimist\\nWhich means if shit goes bad I say, \"I expected this\"\\nAnd me and Julien we never got the chance to communicate\\nInstead of understanding its a tune of hate\\nThe city\\'s mine like Oklahoma\\'s a Sooner state\\nAnd we\\'re gonna have to cross paths whether soon or late\\nSo, why don\\'t you walk up in the spot using less strut\\nYou ain\\'t Morris Chestnut, you lighter and less cut\\nAnd lets be honest, by now you should be your own scholar\\nYou still a protegé, that\\'s the reason I don\\'t holler\\nYou got rappers being repetitive actors\\nYou stay ahead of the game, I\\'m ahead of the practice boy'\n",
    "x.count('\\n')"
   ]
  }
 ]
}