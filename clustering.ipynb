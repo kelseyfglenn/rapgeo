{
 "metadata": {
  "language_info": {
   "codemirror_mode": {
    "name": "ipython",
    "version": 3
   },
   "file_extension": ".py",
   "mimetype": "text/x-python",
   "name": "python",
   "nbconvert_exporter": "python",
   "pygments_lexer": "ipython3",
   "version": 3
  },
  "orig_nbformat": 2,
  "kernelspec": {
   "name": "python_defaultSpec_1597287267797",
   "display_name": "Python 3.7.7 64-bit ('base': conda)"
  }
 },
 "nbformat": 4,
 "nbformat_minor": 2,
 "cells": [
  {
   "cell_type": "code",
   "execution_count": 1,
   "metadata": {},
   "outputs": [],
   "source": [
    "import pickle as pkl \n",
    "\n",
    "import pandas as pd\n",
    "\n",
    "from sklearn.preprocessing import StandardScaler\n",
    "\n",
    "from sklearn.cluster import KMeans"
   ]
  },
  {
   "cell_type": "code",
   "execution_count": 2,
   "metadata": {},
   "outputs": [],
   "source": [
    "with open('artist_features.pkl', 'rb') as f:\n",
    "    artist_features = pkl.load(f)"
   ]
  },
  {
   "cell_type": "code",
   "execution_count": 4,
   "metadata": {},
   "outputs": [
    {
     "output_type": "execute_result",
     "data": {
      "text/plain": "            Lyrical/Misc  Bragging/Combative  Money/Party  Romance/Sex  \\\nartist                                                                   \n03 Greedo       0.012388            0.040464     0.021360     0.011842   \n070 Shake       0.015179            0.001804     0.021861     0.036665   \n2 Chainz        0.018329            0.023071     0.021967     0.006407   \n2 Pistols       0.013755            0.030431     0.018532     0.021855   \n21 Savage       0.007464            0.046448     0.046098     0.008801   \n...                  ...                 ...          ...          ...   \nZebra Katz      0.025077            0.012421     0.018921     0.016527   \nZelooperz       0.018682            0.037817     0.003213     0.006282   \nZion I          0.031290            0.000425     0.003131     0.006091   \nbbno$           0.009183            0.010923     0.004047     0.009563   \nwill.i.am       0.004096            0.019755     0.047252     0.040928   \n\n            words_per_line  unique_words  unique_word_rate  \\\nartist                                                       \n03 Greedo        35.125816    185.375000          0.070810   \n070 Shake        30.507007    137.470588          0.071274   \n2 Chainz         32.916186    194.111111          0.090778   \n2 Pistols        28.376804    178.272727          0.085574   \n21 Savage        33.424155    189.095238          0.070440   \n...                    ...           ...               ...   \nZebra Katz       25.122420    132.944444          0.087163   \nZelooperz        29.884914    151.060606          0.095839   \nZion I           34.300381    210.200000          0.104322   \nbbno$            31.152735     92.333333          0.055000   \nwill.i.am        33.323155    163.733333          0.067369   \n\n            syllables_per_line  syllables_per_word  \nartist                                              \n03 Greedo             9.211347            0.261876  \n070 Shake             8.091570            0.264949  \n2 Chainz              8.641371            0.262462  \n2 Pistols             7.243027            0.255224  \n21 Savage             8.484020            0.253769  \n...                        ...                 ...  \nZebra Katz            6.521429            0.259716  \nZelooperz             7.746176            0.258715  \nZion I                8.986945            0.262015  \nbbno$                 8.575163            0.275106  \nwill.i.am             8.664136            0.259974  \n\n[1260 rows x 9 columns]",
      "text/html": "<div>\n<style scoped>\n    .dataframe tbody tr th:only-of-type {\n        vertical-align: middle;\n    }\n\n    .dataframe tbody tr th {\n        vertical-align: top;\n    }\n\n    .dataframe thead th {\n        text-align: right;\n    }\n</style>\n<table border=\"1\" class=\"dataframe\">\n  <thead>\n    <tr style=\"text-align: right;\">\n      <th></th>\n      <th>Lyrical/Misc</th>\n      <th>Bragging/Combative</th>\n      <th>Money/Party</th>\n      <th>Romance/Sex</th>\n      <th>words_per_line</th>\n      <th>unique_words</th>\n      <th>unique_word_rate</th>\n      <th>syllables_per_line</th>\n      <th>syllables_per_word</th>\n    </tr>\n    <tr>\n      <th>artist</th>\n      <th></th>\n      <th></th>\n      <th></th>\n      <th></th>\n      <th></th>\n      <th></th>\n      <th></th>\n      <th></th>\n      <th></th>\n    </tr>\n  </thead>\n  <tbody>\n    <tr>\n      <th>03 Greedo</th>\n      <td>0.012388</td>\n      <td>0.040464</td>\n      <td>0.021360</td>\n      <td>0.011842</td>\n      <td>35.125816</td>\n      <td>185.375000</td>\n      <td>0.070810</td>\n      <td>9.211347</td>\n      <td>0.261876</td>\n    </tr>\n    <tr>\n      <th>070 Shake</th>\n      <td>0.015179</td>\n      <td>0.001804</td>\n      <td>0.021861</td>\n      <td>0.036665</td>\n      <td>30.507007</td>\n      <td>137.470588</td>\n      <td>0.071274</td>\n      <td>8.091570</td>\n      <td>0.264949</td>\n    </tr>\n    <tr>\n      <th>2 Chainz</th>\n      <td>0.018329</td>\n      <td>0.023071</td>\n      <td>0.021967</td>\n      <td>0.006407</td>\n      <td>32.916186</td>\n      <td>194.111111</td>\n      <td>0.090778</td>\n      <td>8.641371</td>\n      <td>0.262462</td>\n    </tr>\n    <tr>\n      <th>2 Pistols</th>\n      <td>0.013755</td>\n      <td>0.030431</td>\n      <td>0.018532</td>\n      <td>0.021855</td>\n      <td>28.376804</td>\n      <td>178.272727</td>\n      <td>0.085574</td>\n      <td>7.243027</td>\n      <td>0.255224</td>\n    </tr>\n    <tr>\n      <th>21 Savage</th>\n      <td>0.007464</td>\n      <td>0.046448</td>\n      <td>0.046098</td>\n      <td>0.008801</td>\n      <td>33.424155</td>\n      <td>189.095238</td>\n      <td>0.070440</td>\n      <td>8.484020</td>\n      <td>0.253769</td>\n    </tr>\n    <tr>\n      <th>...</th>\n      <td>...</td>\n      <td>...</td>\n      <td>...</td>\n      <td>...</td>\n      <td>...</td>\n      <td>...</td>\n      <td>...</td>\n      <td>...</td>\n      <td>...</td>\n    </tr>\n    <tr>\n      <th>Zebra Katz</th>\n      <td>0.025077</td>\n      <td>0.012421</td>\n      <td>0.018921</td>\n      <td>0.016527</td>\n      <td>25.122420</td>\n      <td>132.944444</td>\n      <td>0.087163</td>\n      <td>6.521429</td>\n      <td>0.259716</td>\n    </tr>\n    <tr>\n      <th>Zelooperz</th>\n      <td>0.018682</td>\n      <td>0.037817</td>\n      <td>0.003213</td>\n      <td>0.006282</td>\n      <td>29.884914</td>\n      <td>151.060606</td>\n      <td>0.095839</td>\n      <td>7.746176</td>\n      <td>0.258715</td>\n    </tr>\n    <tr>\n      <th>Zion I</th>\n      <td>0.031290</td>\n      <td>0.000425</td>\n      <td>0.003131</td>\n      <td>0.006091</td>\n      <td>34.300381</td>\n      <td>210.200000</td>\n      <td>0.104322</td>\n      <td>8.986945</td>\n      <td>0.262015</td>\n    </tr>\n    <tr>\n      <th>bbno$</th>\n      <td>0.009183</td>\n      <td>0.010923</td>\n      <td>0.004047</td>\n      <td>0.009563</td>\n      <td>31.152735</td>\n      <td>92.333333</td>\n      <td>0.055000</td>\n      <td>8.575163</td>\n      <td>0.275106</td>\n    </tr>\n    <tr>\n      <th>will.i.am</th>\n      <td>0.004096</td>\n      <td>0.019755</td>\n      <td>0.047252</td>\n      <td>0.040928</td>\n      <td>33.323155</td>\n      <td>163.733333</td>\n      <td>0.067369</td>\n      <td>8.664136</td>\n      <td>0.259974</td>\n    </tr>\n  </tbody>\n</table>\n<p>1260 rows × 9 columns</p>\n</div>"
     },
     "metadata": {},
     "execution_count": 4
    }
   ],
   "source": [
    "# focus on rates to start rather than song length\n",
    "X = artist_features.drop(columns=['lines', 'words', 'syllables'])\n",
    "X"
   ]
  },
  {
   "cell_type": "code",
   "execution_count": 9,
   "metadata": {},
   "outputs": [],
   "source": [
    "scaler = StandardScaler()\n",
    "X_scaled = pd.DataFrame(scaler.fit_transform(X), columns=X.columns, index=X.index)"
   ]
  },
  {
   "cell_type": "code",
   "execution_count": 10,
   "metadata": {},
   "outputs": [
    {
     "output_type": "execute_result",
     "data": {
      "text/plain": "            Lyrical/Misc  Bragging/Combative  Money/Party  Romance/Sex  \\\nartist                                                                   \n03 Greedo      -1.108094            1.115106     0.780540    -0.227123   \n070 Shake      -0.834664           -1.035582     0.819309     1.803736   \n2 Chainz       -0.526146            0.147511     0.827469    -0.671790   \n2 Pistols      -0.974242            0.556940     0.561764     0.592036   \n21 Savage      -1.590426            1.447984     2.694137    -0.475869   \n...                  ...                 ...          ...          ...   \nZebra Katz      0.134856           -0.444954     0.591835     0.156195   \nZelooperz      -0.491603            0.967847    -0.623256    -0.681979   \nZion I          0.743504           -1.112303    -0.629578    -0.697615   \nbbno$          -1.422031           -0.528276    -0.558746    -0.413536   \nwill.i.am      -1.920378           -0.036947     2.783435     2.152477   \n\n            words_per_line  unique_words  unique_word_rate  \\\nartist                                                       \n03 Greedo         0.514503     -0.344285         -1.123740   \n070 Shake        -0.442401     -1.017869         -1.090486   \n2 Chainz          0.056722     -0.221446          0.307881   \n2 Pistols        -0.883727     -0.444150         -0.065240   \n21 Savage         0.161960     -0.291975         -1.150268   \n...                    ...           ...               ...   \nZebra Katz       -1.557956     -1.081511          0.048671   \nZelooperz        -0.571284     -0.826780          0.670745   \nZion I            0.343493      0.004780          1.278952   \nbbno$            -0.308622     -1.652544         -2.257284   \nwill.i.am         0.141036     -0.648589         -1.370463   \n\n            syllables_per_line  syllables_per_word  \nartist                                              \n03 Greedo             0.482583           -0.244783  \n070 Shake            -0.394098            0.285492  \n2 Chainz              0.036345           -0.143757  \n2 Pistols            -1.058428           -1.392879  \n21 Savage            -0.086846           -1.644092  \n...                        ...                 ...  \nZebra Katz           -1.623372           -0.617658  \nZelooperz            -0.664509           -0.790359  \nZion I                0.306897           -0.220902  \nbbno$                -0.015490            2.038551  \nwill.i.am             0.054167           -0.573045  \n\n[1260 rows x 9 columns]",
      "text/html": "<div>\n<style scoped>\n    .dataframe tbody tr th:only-of-type {\n        vertical-align: middle;\n    }\n\n    .dataframe tbody tr th {\n        vertical-align: top;\n    }\n\n    .dataframe thead th {\n        text-align: right;\n    }\n</style>\n<table border=\"1\" class=\"dataframe\">\n  <thead>\n    <tr style=\"text-align: right;\">\n      <th></th>\n      <th>Lyrical/Misc</th>\n      <th>Bragging/Combative</th>\n      <th>Money/Party</th>\n      <th>Romance/Sex</th>\n      <th>words_per_line</th>\n      <th>unique_words</th>\n      <th>unique_word_rate</th>\n      <th>syllables_per_line</th>\n      <th>syllables_per_word</th>\n    </tr>\n    <tr>\n      <th>artist</th>\n      <th></th>\n      <th></th>\n      <th></th>\n      <th></th>\n      <th></th>\n      <th></th>\n      <th></th>\n      <th></th>\n      <th></th>\n    </tr>\n  </thead>\n  <tbody>\n    <tr>\n      <th>03 Greedo</th>\n      <td>-1.108094</td>\n      <td>1.115106</td>\n      <td>0.780540</td>\n      <td>-0.227123</td>\n      <td>0.514503</td>\n      <td>-0.344285</td>\n      <td>-1.123740</td>\n      <td>0.482583</td>\n      <td>-0.244783</td>\n    </tr>\n    <tr>\n      <th>070 Shake</th>\n      <td>-0.834664</td>\n      <td>-1.035582</td>\n      <td>0.819309</td>\n      <td>1.803736</td>\n      <td>-0.442401</td>\n      <td>-1.017869</td>\n      <td>-1.090486</td>\n      <td>-0.394098</td>\n      <td>0.285492</td>\n    </tr>\n    <tr>\n      <th>2 Chainz</th>\n      <td>-0.526146</td>\n      <td>0.147511</td>\n      <td>0.827469</td>\n      <td>-0.671790</td>\n      <td>0.056722</td>\n      <td>-0.221446</td>\n      <td>0.307881</td>\n      <td>0.036345</td>\n      <td>-0.143757</td>\n    </tr>\n    <tr>\n      <th>2 Pistols</th>\n      <td>-0.974242</td>\n      <td>0.556940</td>\n      <td>0.561764</td>\n      <td>0.592036</td>\n      <td>-0.883727</td>\n      <td>-0.444150</td>\n      <td>-0.065240</td>\n      <td>-1.058428</td>\n      <td>-1.392879</td>\n    </tr>\n    <tr>\n      <th>21 Savage</th>\n      <td>-1.590426</td>\n      <td>1.447984</td>\n      <td>2.694137</td>\n      <td>-0.475869</td>\n      <td>0.161960</td>\n      <td>-0.291975</td>\n      <td>-1.150268</td>\n      <td>-0.086846</td>\n      <td>-1.644092</td>\n    </tr>\n    <tr>\n      <th>...</th>\n      <td>...</td>\n      <td>...</td>\n      <td>...</td>\n      <td>...</td>\n      <td>...</td>\n      <td>...</td>\n      <td>...</td>\n      <td>...</td>\n      <td>...</td>\n    </tr>\n    <tr>\n      <th>Zebra Katz</th>\n      <td>0.134856</td>\n      <td>-0.444954</td>\n      <td>0.591835</td>\n      <td>0.156195</td>\n      <td>-1.557956</td>\n      <td>-1.081511</td>\n      <td>0.048671</td>\n      <td>-1.623372</td>\n      <td>-0.617658</td>\n    </tr>\n    <tr>\n      <th>Zelooperz</th>\n      <td>-0.491603</td>\n      <td>0.967847</td>\n      <td>-0.623256</td>\n      <td>-0.681979</td>\n      <td>-0.571284</td>\n      <td>-0.826780</td>\n      <td>0.670745</td>\n      <td>-0.664509</td>\n      <td>-0.790359</td>\n    </tr>\n    <tr>\n      <th>Zion I</th>\n      <td>0.743504</td>\n      <td>-1.112303</td>\n      <td>-0.629578</td>\n      <td>-0.697615</td>\n      <td>0.343493</td>\n      <td>0.004780</td>\n      <td>1.278952</td>\n      <td>0.306897</td>\n      <td>-0.220902</td>\n    </tr>\n    <tr>\n      <th>bbno$</th>\n      <td>-1.422031</td>\n      <td>-0.528276</td>\n      <td>-0.558746</td>\n      <td>-0.413536</td>\n      <td>-0.308622</td>\n      <td>-1.652544</td>\n      <td>-2.257284</td>\n      <td>-0.015490</td>\n      <td>2.038551</td>\n    </tr>\n    <tr>\n      <th>will.i.am</th>\n      <td>-1.920378</td>\n      <td>-0.036947</td>\n      <td>2.783435</td>\n      <td>2.152477</td>\n      <td>0.141036</td>\n      <td>-0.648589</td>\n      <td>-1.370463</td>\n      <td>0.054167</td>\n      <td>-0.573045</td>\n    </tr>\n  </tbody>\n</table>\n<p>1260 rows × 9 columns</p>\n</div>"
     },
     "metadata": {},
     "execution_count": 10
    }
   ],
   "source": [
    "X_scaled"
   ]
  },
  {
   "cell_type": "code",
   "execution_count": 11,
   "metadata": {},
   "outputs": [
    {
     "output_type": "execute_result",
     "data": {
      "text/plain": "KMeans(n_clusters=5, n_init=3, random_state=77)"
     },
     "metadata": {},
     "execution_count": 11
    }
   ],
   "source": [
    "clusters = 5\n",
    "km = KMeans(n_clusters=clusters, random_state=77, n_init=3)\n",
    "km.fit(X_scaled)"
   ]
  },
  {
   "cell_type": "code",
   "execution_count": 16,
   "metadata": {},
   "outputs": [
    {
     "output_type": "execute_result",
     "data": {
      "text/plain": "            Lyrical/Misc  Bragging/Combative  Money/Party  Romance/Sex  \\\nartist                                                                   \n03 Greedo       0.012388            0.040464     0.021360     0.011842   \n070 Shake       0.015179            0.001804     0.021861     0.036665   \n2 Chainz        0.018329            0.023071     0.021967     0.006407   \n2 Pistols       0.013755            0.030431     0.018532     0.021855   \n21 Savage       0.007464            0.046448     0.046098     0.008801   \n...                  ...                 ...          ...          ...   \nZebra Katz      0.025077            0.012421     0.018921     0.016527   \nZelooperz       0.018682            0.037817     0.003213     0.006282   \nZion I          0.031290            0.000425     0.003131     0.006091   \nbbno$           0.009183            0.010923     0.004047     0.009563   \nwill.i.am       0.004096            0.019755     0.047252     0.040928   \n\n            words_per_line  unique_words  unique_word_rate  \\\nartist                                                       \n03 Greedo        35.125816    185.375000          0.070810   \n070 Shake        30.507007    137.470588          0.071274   \n2 Chainz         32.916186    194.111111          0.090778   \n2 Pistols        28.376804    178.272727          0.085574   \n21 Savage        33.424155    189.095238          0.070440   \n...                    ...           ...               ...   \nZebra Katz       25.122420    132.944444          0.087163   \nZelooperz        29.884914    151.060606          0.095839   \nZion I           34.300381    210.200000          0.104322   \nbbno$            31.152735     92.333333          0.055000   \nwill.i.am        33.323155    163.733333          0.067369   \n\n            syllables_per_line  syllables_per_word  cluster  \nartist                                                       \n03 Greedo             9.211347            0.261876        2  \n070 Shake             8.091570            0.264949        4  \n2 Chainz              8.641371            0.262462        2  \n2 Pistols             7.243027            0.255224        2  \n21 Savage             8.484020            0.253769        0  \n...                        ...                 ...      ...  \nZebra Katz            6.521429            0.259716        4  \nZelooperz             7.746176            0.258715        2  \nZion I                8.986945            0.262015        3  \nbbno$                 8.575163            0.275106        4  \nwill.i.am             8.664136            0.259974        0  \n\n[1260 rows x 10 columns]",
      "text/html": "<div>\n<style scoped>\n    .dataframe tbody tr th:only-of-type {\n        vertical-align: middle;\n    }\n\n    .dataframe tbody tr th {\n        vertical-align: top;\n    }\n\n    .dataframe thead th {\n        text-align: right;\n    }\n</style>\n<table border=\"1\" class=\"dataframe\">\n  <thead>\n    <tr style=\"text-align: right;\">\n      <th></th>\n      <th>Lyrical/Misc</th>\n      <th>Bragging/Combative</th>\n      <th>Money/Party</th>\n      <th>Romance/Sex</th>\n      <th>words_per_line</th>\n      <th>unique_words</th>\n      <th>unique_word_rate</th>\n      <th>syllables_per_line</th>\n      <th>syllables_per_word</th>\n      <th>cluster</th>\n    </tr>\n    <tr>\n      <th>artist</th>\n      <th></th>\n      <th></th>\n      <th></th>\n      <th></th>\n      <th></th>\n      <th></th>\n      <th></th>\n      <th></th>\n      <th></th>\n      <th></th>\n    </tr>\n  </thead>\n  <tbody>\n    <tr>\n      <th>03 Greedo</th>\n      <td>0.012388</td>\n      <td>0.040464</td>\n      <td>0.021360</td>\n      <td>0.011842</td>\n      <td>35.125816</td>\n      <td>185.375000</td>\n      <td>0.070810</td>\n      <td>9.211347</td>\n      <td>0.261876</td>\n      <td>2</td>\n    </tr>\n    <tr>\n      <th>070 Shake</th>\n      <td>0.015179</td>\n      <td>0.001804</td>\n      <td>0.021861</td>\n      <td>0.036665</td>\n      <td>30.507007</td>\n      <td>137.470588</td>\n      <td>0.071274</td>\n      <td>8.091570</td>\n      <td>0.264949</td>\n      <td>4</td>\n    </tr>\n    <tr>\n      <th>2 Chainz</th>\n      <td>0.018329</td>\n      <td>0.023071</td>\n      <td>0.021967</td>\n      <td>0.006407</td>\n      <td>32.916186</td>\n      <td>194.111111</td>\n      <td>0.090778</td>\n      <td>8.641371</td>\n      <td>0.262462</td>\n      <td>2</td>\n    </tr>\n    <tr>\n      <th>2 Pistols</th>\n      <td>0.013755</td>\n      <td>0.030431</td>\n      <td>0.018532</td>\n      <td>0.021855</td>\n      <td>28.376804</td>\n      <td>178.272727</td>\n      <td>0.085574</td>\n      <td>7.243027</td>\n      <td>0.255224</td>\n      <td>2</td>\n    </tr>\n    <tr>\n      <th>21 Savage</th>\n      <td>0.007464</td>\n      <td>0.046448</td>\n      <td>0.046098</td>\n      <td>0.008801</td>\n      <td>33.424155</td>\n      <td>189.095238</td>\n      <td>0.070440</td>\n      <td>8.484020</td>\n      <td>0.253769</td>\n      <td>0</td>\n    </tr>\n    <tr>\n      <th>...</th>\n      <td>...</td>\n      <td>...</td>\n      <td>...</td>\n      <td>...</td>\n      <td>...</td>\n      <td>...</td>\n      <td>...</td>\n      <td>...</td>\n      <td>...</td>\n      <td>...</td>\n    </tr>\n    <tr>\n      <th>Zebra Katz</th>\n      <td>0.025077</td>\n      <td>0.012421</td>\n      <td>0.018921</td>\n      <td>0.016527</td>\n      <td>25.122420</td>\n      <td>132.944444</td>\n      <td>0.087163</td>\n      <td>6.521429</td>\n      <td>0.259716</td>\n      <td>4</td>\n    </tr>\n    <tr>\n      <th>Zelooperz</th>\n      <td>0.018682</td>\n      <td>0.037817</td>\n      <td>0.003213</td>\n      <td>0.006282</td>\n      <td>29.884914</td>\n      <td>151.060606</td>\n      <td>0.095839</td>\n      <td>7.746176</td>\n      <td>0.258715</td>\n      <td>2</td>\n    </tr>\n    <tr>\n      <th>Zion I</th>\n      <td>0.031290</td>\n      <td>0.000425</td>\n      <td>0.003131</td>\n      <td>0.006091</td>\n      <td>34.300381</td>\n      <td>210.200000</td>\n      <td>0.104322</td>\n      <td>8.986945</td>\n      <td>0.262015</td>\n      <td>3</td>\n    </tr>\n    <tr>\n      <th>bbno$</th>\n      <td>0.009183</td>\n      <td>0.010923</td>\n      <td>0.004047</td>\n      <td>0.009563</td>\n      <td>31.152735</td>\n      <td>92.333333</td>\n      <td>0.055000</td>\n      <td>8.575163</td>\n      <td>0.275106</td>\n      <td>4</td>\n    </tr>\n    <tr>\n      <th>will.i.am</th>\n      <td>0.004096</td>\n      <td>0.019755</td>\n      <td>0.047252</td>\n      <td>0.040928</td>\n      <td>33.323155</td>\n      <td>163.733333</td>\n      <td>0.067369</td>\n      <td>8.664136</td>\n      <td>0.259974</td>\n      <td>0</td>\n    </tr>\n  </tbody>\n</table>\n<p>1260 rows × 10 columns</p>\n</div>"
     },
     "metadata": {},
     "execution_count": 16
    }
   ],
   "source": [
    "X_labeled = X.copy()\n",
    "X_labeled['cluster'] = km.labels_\n",
    "X_labeled"
   ]
  },
  {
   "cell_type": "code",
   "execution_count": 41,
   "metadata": {},
   "outputs": [
    {
     "output_type": "execute_result",
     "data": {
      "text/plain": "         Lyrical/Misc  Bragging/Combative  Money/Party  Romance/Sex  \\\ncluster                                                               \n0                 122                 122          122          122   \n1                 217                 217          217          217   \n2                 277                 277          277          277   \n3                 401                 401          401          401   \n4                 243                 243          243          243   \n\n         words_per_line  unique_words  unique_word_rate  syllables_per_line  \\\ncluster                                                                       \n0                   122           122               122                 122   \n1                   217           217               217                 217   \n2                   277           277               277                 277   \n3                   401           401               401                 401   \n4                   243           243               243                 243   \n\n         syllables_per_word  \ncluster                      \n0                       122  \n1                       217  \n2                       277  \n3                       401  \n4                       243  ",
      "text/html": "<div>\n<style scoped>\n    .dataframe tbody tr th:only-of-type {\n        vertical-align: middle;\n    }\n\n    .dataframe tbody tr th {\n        vertical-align: top;\n    }\n\n    .dataframe thead th {\n        text-align: right;\n    }\n</style>\n<table border=\"1\" class=\"dataframe\">\n  <thead>\n    <tr style=\"text-align: right;\">\n      <th></th>\n      <th>Lyrical/Misc</th>\n      <th>Bragging/Combative</th>\n      <th>Money/Party</th>\n      <th>Romance/Sex</th>\n      <th>words_per_line</th>\n      <th>unique_words</th>\n      <th>unique_word_rate</th>\n      <th>syllables_per_line</th>\n      <th>syllables_per_word</th>\n    </tr>\n    <tr>\n      <th>cluster</th>\n      <th></th>\n      <th></th>\n      <th></th>\n      <th></th>\n      <th></th>\n      <th></th>\n      <th></th>\n      <th></th>\n      <th></th>\n    </tr>\n  </thead>\n  <tbody>\n    <tr>\n      <th>0</th>\n      <td>122</td>\n      <td>122</td>\n      <td>122</td>\n      <td>122</td>\n      <td>122</td>\n      <td>122</td>\n      <td>122</td>\n      <td>122</td>\n      <td>122</td>\n    </tr>\n    <tr>\n      <th>1</th>\n      <td>217</td>\n      <td>217</td>\n      <td>217</td>\n      <td>217</td>\n      <td>217</td>\n      <td>217</td>\n      <td>217</td>\n      <td>217</td>\n      <td>217</td>\n    </tr>\n    <tr>\n      <th>2</th>\n      <td>277</td>\n      <td>277</td>\n      <td>277</td>\n      <td>277</td>\n      <td>277</td>\n      <td>277</td>\n      <td>277</td>\n      <td>277</td>\n      <td>277</td>\n    </tr>\n    <tr>\n      <th>3</th>\n      <td>401</td>\n      <td>401</td>\n      <td>401</td>\n      <td>401</td>\n      <td>401</td>\n      <td>401</td>\n      <td>401</td>\n      <td>401</td>\n      <td>401</td>\n    </tr>\n    <tr>\n      <th>4</th>\n      <td>243</td>\n      <td>243</td>\n      <td>243</td>\n      <td>243</td>\n      <td>243</td>\n      <td>243</td>\n      <td>243</td>\n      <td>243</td>\n      <td>243</td>\n    </tr>\n  </tbody>\n</table>\n</div>"
     },
     "metadata": {},
     "execution_count": 41
    }
   ],
   "source": [
    "X_labeled.groupby('cluster').count()"
   ]
  },
  {
   "cell_type": "code",
   "execution_count": 40,
   "metadata": {},
   "outputs": [
    {
     "output_type": "execute_result",
     "data": {
      "text/plain": "['070 Shake',\n '24kGoldn',\n '360',\n 'A+',\n 'A-Q',\n 'A.CHAL',\n 'A.L.T.',\n 'Afrika Bambaataa',\n 'Afroman',\n 'Akon',\n 'Aminé',\n 'Amir Obè',\n 'Anthony Parker',\n 'BJ the Chicago Kid',\n 'Baby Bash',\n 'Baeza',\n 'Bas',\n 'Benny Blanco',\n 'Bia',\n 'Big Boi',\n 'Big Shaq',\n 'Blac Youngsta',\n 'Black Milk',\n 'Blu',\n 'Bobby Brackins',\n 'Bohemia',\n 'Boity',\n 'Boots Riley',\n 'Burna Boy',\n 'Butch Cassidy',\n 'CL',\n 'Cage',\n 'Cassidy',\n 'Cazwell',\n 'CeeLo Green',\n 'Channel 7',\n 'Chris Brown',\n 'Consequence',\n 'Cool C',\n 'Curtiss King',\n \"D'Angelo\",\n 'DJ Head',\n 'DJ Premier',\n 'DJ Run',\n 'DJ Shadow',\n 'DLOW',\n 'Danny Boy',\n 'David Rush',\n 'Desiigner',\n 'Detail',\n 'Deuce',\n 'Diamond D',\n 'Disco D',\n 'Doja Cat',\n 'Dominic Fike',\n 'Dominique Young Unique',\n 'Domino',\n 'Drag-On',\n 'Duncan Mighty',\n 'Elephant Man',\n 'Elucid',\n 'Emtee',\n 'Eric Stanley',\n 'Fatboi',\n 'Father MC',\n 'Fatman Scoop',\n 'Fergie',\n 'Flavor Flav',\n 'Flo Rida',\n 'Focus...',\n 'Frank Ocean',\n 'Fred Durst',\n 'Freekey Zekey',\n 'Frost',\n 'G-Eazy',\n 'GAWVI',\n 'Havoc',\n 'Heavy D',\n 'Hit-Boy',\n 'Hot Dollar',\n 'Hush',\n 'I-20',\n 'IHeartMemphis',\n 'Iann Dior',\n 'IceJJFish',\n 'Iggy Azalea',\n 'J Hus',\n 'J. Valentine',\n 'J.R. Rotem',\n 'Jake Miller',\n 'Jake One',\n 'Jason Derulo',\n 'Jay Burna',\n 'Jennifer Lopez',\n 'Jeremih',\n 'Jewell',\n 'Jidenna',\n 'Jipsta',\n 'Johntá Austin',\n 'Joji',\n 'K7',\n 'Kanto',\n 'Kat Dahlia',\n 'Kelis',\n 'Kevin Abstract',\n 'Kevin McCall',\n 'Kid Cudi',\n 'Kid Frost',\n 'Kitty',\n 'Knero',\n 'Kool Keith',\n 'Kossisko',\n 'Kurtis Blow',\n 'Kyle',\n 'Laure',\n 'Lauryn Hill',\n 'Lazarus',\n 'Lil Debbie',\n 'Lil Nas X',\n 'Lil Tracy',\n \"Lil' Fizz\",\n \"Lil' Kim\",\n 'Lisa Lopes',\n 'Lizzo',\n 'LoveRance',\n 'M-1',\n 'M.I.A.',\n 'MC Hammer',\n 'MC Ride',\n 'MC Trouble',\n 'Mac Dre',\n 'Maejor Ali',\n 'Manafest',\n 'Mann',\n 'Mariah Carey',\n 'Mase',\n 'Matt Toka',\n 'Mia X',\n 'Mike Dean',\n 'Mike Posner',\n 'Mike Shinoda',\n 'Mike Stud',\n 'Milo',\n 'Missy Elliott',\n 'Mr. Capone-E',\n 'Mr. Collipark',\n 'Murs',\n 'N.O. Joe',\n 'Nas',\n 'Nasty C',\n 'Nate Dogg',\n 'Nature',\n 'Nick Cannon',\n 'Nicky da B',\n 'Nicole Wray',\n 'Nottz',\n 'O.T. Genasis',\n 'Oh No',\n 'Olivia',\n 'Omarion',\n 'Omen',\n 'PARTYNEXTDOOR',\n 'Pill',\n 'Pink Guy',\n 'Planetary',\n 'Post Malone',\n 'Proof',\n 'Quan',\n 'R. Kelly',\n 'REASON',\n 'RM',\n 'Rasheeda',\n 'Redfoo',\n 'Redman',\n 'Rich Boy',\n 'Riky Rick',\n 'Roger Troutman',\n 'Romeo Miller',\n 'Roscoe',\n 'Roy Woods',\n 'Rucka Rucka Ali',\n 'Runtown',\n 'Rye Rye',\n 'SZA',\n 'Sammy Adams',\n 'San E',\n 'Scotty',\n 'Sean T',\n 'Shaggy',\n 'Shawty Lo',\n 'Shock G',\n 'Shwayze',\n 'Silentó',\n 'Silla',\n 'Simon D',\n 'Skinnyman',\n 'Sleepy Brown',\n 'Smooth',\n 'Soce, the elemental wizard',\n 'Sonny Digital',\n 'Spot',\n 'Steady B',\n 'Stefflon Don',\n 'Stitches',\n 'Stoka',\n 'Suffa',\n 'Swagg Man',\n 'Syd Tha Kyd',\n 'T. Mills',\n 'TD Cruze',\n 'Tablo',\n 'Taio Cruz',\n 'Tay Dizm',\n 'Teairra Marí',\n 'TeeFlii',\n 'Tekitha',\n 'The Weeknd',\n 'The-Dream',\n 'Theophilus London',\n 'Timaya',\n 'Timbaland',\n 'Tink',\n 'Tion Wayne',\n 'TobyMac',\n 'Tone Trump',\n 'Torch',\n 'Treach',\n 'Trey Songz',\n 'Unk',\n 'Usher',\n 'Val Young',\n 'Verse Simmonds',\n 'WC',\n 'Willow Smith',\n 'Wish Bone',\n 'Wizkid',\n 'XV',\n 'YDG',\n 'Yung Baby Tate',\n 'Yung Lean',\n 'Yung6ix',\n 'Zebra Katz',\n 'bbno$']"
     },
     "metadata": {},
     "execution_count": 40
    }
   ],
   "source": [
    "list(X_labeled.reset_index()[X_labeled.reset_index()['cluster'] == 4]['artist'])"
   ]
  },
  {
   "cell_type": "markdown",
   "metadata": {},
   "source": [
    "#### Notes: \n",
    "#### k=5:\n",
    "Cluster 0 has 122, Cluster 3 has 401, rest around 2-300\n",
    "* 0: Count: 122 -- Money/Party dominated, average words/line, 2nd lowest unique word usage, average syllables per line, lowest syllables per word \n",
    "* 1: Count: 217 -- Lyrical/Misc dominated, mild Bragging/Combative, highest words/line, highest unique words/rate, highest syllables per line and word\n",
    "* 2: Count: 277 -- Bragging/Combative Dominated, average everything\n",
    "* 3: Count: 401 -- Lyrical/Misc dominated, mild Bragging/Combative AND Romance/Sex, average words/line, above average unique word rate, average syllables per line/word\n",
    "* 4: Count: 243 -- Romance/Sex dominated, mild Lyrical/Misc, lowest words/line by far, lowest unique words/rate, lowest syllables/line, but average per word\n",
    "\n",
    "Example artists in Each Cluster:\n",
    "* 0: Cardi B/Nicki Minaj/Megan Thee Stallion, Roddy Ricch, Travis Scott, Young Thug, XXXTentacion\n",
    "* 1: Aesop Rock, Eminem, Ghostface Killah, J. Cole, Lil Wayne\n",
    "* 2: 2 Chainz, 50 Cent, DMX, Snoop Dogg, Wiz Khalifa\n",
    "* 3: Andre 3000, Chance the Rapper, Childish Gambino, Kendrick Lamar, Lupe Fiasco, Macklemore\n",
    "* 4: Chris Brown, Jason Derulo, Kid Cudi, Lauryn Hill, Post Malone, The Weeknd\n",
    "\n",
    "Cluster Analysis: \n",
    "* 0: Hardto interpret. Chiefly generic money/party semantic content, most simplistic word usage. Seems to house most of the trap/'vibe'/mumble rappers. Some artists don't seem very accurately placed (e.g. Cardi/Nicki/Megan). \n",
    "* 1: Clearly home to most 'lyrical' rappers. Dominant cluster in terms of vocabulary and syllable density.\n",
    "* 2: Very non-descript, middle of the pack by every metric. Seems to house a lot of older, 'standard' flow rappers.\n",
    "* 3: Seems to capture most 'musically' oriented rappers -- lyrical diversity but not massive density, widest variety of topics.\n",
    "* 4: Effectively captures most R&B artists. Romance/Sex oriented lyrics with minimal lyrical diversity."
   ]
  },
  {
   "cell_type": "code",
   "execution_count": null,
   "metadata": {},
   "outputs": [],
   "source": []
  }
 ]
}