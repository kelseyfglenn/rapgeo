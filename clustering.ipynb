{
 "metadata": {
  "language_info": {
   "codemirror_mode": {
    "name": "ipython",
    "version": 3
   },
   "file_extension": ".py",
   "mimetype": "text/x-python",
   "name": "python",
   "nbconvert_exporter": "python",
   "pygments_lexer": "ipython3",
   "version": "3.7.7-final"
  },
  "orig_nbformat": 2,
  "kernelspec": {
   "name": "python_defaultSpec_1597369656347",
   "display_name": "Python 3.7.7 64-bit ('base': conda)"
  }
 },
 "nbformat": 4,
 "nbformat_minor": 2,
 "cells": [
  {
   "cell_type": "code",
   "execution_count": 116,
   "metadata": {},
   "outputs": [],
   "source": [
    "import pickle as pkl \n",
    "\n",
    "import pandas as pd\n",
    "\n",
    "from sklearn.preprocessing import StandardScaler\n",
    "\n",
    "from sklearn.cluster import KMeans\n",
    "\n",
    "import matplotlib.pyplot as plt"
   ]
  },
  {
   "cell_type": "code",
   "execution_count": 2,
   "metadata": {},
   "outputs": [],
   "source": [
    "with open('artist_features.pkl', 'rb') as f:\n",
    "    artist_features = pkl.load(f)"
   ]
  },
  {
   "cell_type": "code",
   "execution_count": 3,
   "metadata": {},
   "outputs": [
    {
     "output_type": "execute_result",
     "data": {
      "text/plain": "            Lyrical/Misc  Bragging/Combative  Money/Party  Romance/Sex  \\\nartist                                                                   \n03 Greedo       0.012388            0.040464     0.021360     0.011842   \n070 Shake       0.015179            0.001804     0.021861     0.036665   \n2 Chainz        0.018329            0.023071     0.021967     0.006407   \n2 Pistols       0.013755            0.030431     0.018532     0.021855   \n21 Savage       0.007464            0.046448     0.046098     0.008801   \n...                  ...                 ...          ...          ...   \nZebra Katz      0.025077            0.012421     0.018921     0.016527   \nZelooperz       0.018682            0.037817     0.003213     0.006282   \nZion I          0.031290            0.000425     0.003131     0.006091   \nbbno$           0.009183            0.010923     0.004047     0.009563   \nwill.i.am       0.004096            0.019755     0.047252     0.040928   \n\n            words_per_line  unique_words  unique_word_rate  \\\nartist                                                       \n03 Greedo        35.125816    185.375000          0.070810   \n070 Shake        30.507007    137.470588          0.071274   \n2 Chainz         32.916186    194.111111          0.090778   \n2 Pistols        28.376804    178.272727          0.085574   \n21 Savage        33.424155    189.095238          0.070440   \n...                    ...           ...               ...   \nZebra Katz       25.122420    132.944444          0.087163   \nZelooperz        29.884914    151.060606          0.095839   \nZion I           34.300381    210.200000          0.104322   \nbbno$            31.152735     92.333333          0.055000   \nwill.i.am        33.323155    163.733333          0.067369   \n\n            syllables_per_line  syllables_per_word  \nartist                                              \n03 Greedo             9.211347            0.261876  \n070 Shake             8.091570            0.264949  \n2 Chainz              8.641371            0.262462  \n2 Pistols             7.243027            0.255224  \n21 Savage             8.484020            0.253769  \n...                        ...                 ...  \nZebra Katz            6.521429            0.259716  \nZelooperz             7.746176            0.258715  \nZion I                8.986945            0.262015  \nbbno$                 8.575163            0.275106  \nwill.i.am             8.664136            0.259974  \n\n[1260 rows x 9 columns]",
      "text/html": "<div>\n<style scoped>\n    .dataframe tbody tr th:only-of-type {\n        vertical-align: middle;\n    }\n\n    .dataframe tbody tr th {\n        vertical-align: top;\n    }\n\n    .dataframe thead th {\n        text-align: right;\n    }\n</style>\n<table border=\"1\" class=\"dataframe\">\n  <thead>\n    <tr style=\"text-align: right;\">\n      <th></th>\n      <th>Lyrical/Misc</th>\n      <th>Bragging/Combative</th>\n      <th>Money/Party</th>\n      <th>Romance/Sex</th>\n      <th>words_per_line</th>\n      <th>unique_words</th>\n      <th>unique_word_rate</th>\n      <th>syllables_per_line</th>\n      <th>syllables_per_word</th>\n    </tr>\n    <tr>\n      <th>artist</th>\n      <th></th>\n      <th></th>\n      <th></th>\n      <th></th>\n      <th></th>\n      <th></th>\n      <th></th>\n      <th></th>\n      <th></th>\n    </tr>\n  </thead>\n  <tbody>\n    <tr>\n      <th>03 Greedo</th>\n      <td>0.012388</td>\n      <td>0.040464</td>\n      <td>0.021360</td>\n      <td>0.011842</td>\n      <td>35.125816</td>\n      <td>185.375000</td>\n      <td>0.070810</td>\n      <td>9.211347</td>\n      <td>0.261876</td>\n    </tr>\n    <tr>\n      <th>070 Shake</th>\n      <td>0.015179</td>\n      <td>0.001804</td>\n      <td>0.021861</td>\n      <td>0.036665</td>\n      <td>30.507007</td>\n      <td>137.470588</td>\n      <td>0.071274</td>\n      <td>8.091570</td>\n      <td>0.264949</td>\n    </tr>\n    <tr>\n      <th>2 Chainz</th>\n      <td>0.018329</td>\n      <td>0.023071</td>\n      <td>0.021967</td>\n      <td>0.006407</td>\n      <td>32.916186</td>\n      <td>194.111111</td>\n      <td>0.090778</td>\n      <td>8.641371</td>\n      <td>0.262462</td>\n    </tr>\n    <tr>\n      <th>2 Pistols</th>\n      <td>0.013755</td>\n      <td>0.030431</td>\n      <td>0.018532</td>\n      <td>0.021855</td>\n      <td>28.376804</td>\n      <td>178.272727</td>\n      <td>0.085574</td>\n      <td>7.243027</td>\n      <td>0.255224</td>\n    </tr>\n    <tr>\n      <th>21 Savage</th>\n      <td>0.007464</td>\n      <td>0.046448</td>\n      <td>0.046098</td>\n      <td>0.008801</td>\n      <td>33.424155</td>\n      <td>189.095238</td>\n      <td>0.070440</td>\n      <td>8.484020</td>\n      <td>0.253769</td>\n    </tr>\n    <tr>\n      <th>...</th>\n      <td>...</td>\n      <td>...</td>\n      <td>...</td>\n      <td>...</td>\n      <td>...</td>\n      <td>...</td>\n      <td>...</td>\n      <td>...</td>\n      <td>...</td>\n    </tr>\n    <tr>\n      <th>Zebra Katz</th>\n      <td>0.025077</td>\n      <td>0.012421</td>\n      <td>0.018921</td>\n      <td>0.016527</td>\n      <td>25.122420</td>\n      <td>132.944444</td>\n      <td>0.087163</td>\n      <td>6.521429</td>\n      <td>0.259716</td>\n    </tr>\n    <tr>\n      <th>Zelooperz</th>\n      <td>0.018682</td>\n      <td>0.037817</td>\n      <td>0.003213</td>\n      <td>0.006282</td>\n      <td>29.884914</td>\n      <td>151.060606</td>\n      <td>0.095839</td>\n      <td>7.746176</td>\n      <td>0.258715</td>\n    </tr>\n    <tr>\n      <th>Zion I</th>\n      <td>0.031290</td>\n      <td>0.000425</td>\n      <td>0.003131</td>\n      <td>0.006091</td>\n      <td>34.300381</td>\n      <td>210.200000</td>\n      <td>0.104322</td>\n      <td>8.986945</td>\n      <td>0.262015</td>\n    </tr>\n    <tr>\n      <th>bbno$</th>\n      <td>0.009183</td>\n      <td>0.010923</td>\n      <td>0.004047</td>\n      <td>0.009563</td>\n      <td>31.152735</td>\n      <td>92.333333</td>\n      <td>0.055000</td>\n      <td>8.575163</td>\n      <td>0.275106</td>\n    </tr>\n    <tr>\n      <th>will.i.am</th>\n      <td>0.004096</td>\n      <td>0.019755</td>\n      <td>0.047252</td>\n      <td>0.040928</td>\n      <td>33.323155</td>\n      <td>163.733333</td>\n      <td>0.067369</td>\n      <td>8.664136</td>\n      <td>0.259974</td>\n    </tr>\n  </tbody>\n</table>\n<p>1260 rows × 9 columns</p>\n</div>"
     },
     "metadata": {},
     "execution_count": 3
    }
   ],
   "source": [
    "# focus on rates to start rather than song length\n",
    "X = artist_features.drop(columns=['lines', 'words', 'syllables'])\n",
    "X"
   ]
  },
  {
   "cell_type": "code",
   "execution_count": 9,
   "metadata": {},
   "outputs": [],
   "source": [
    "scaler = StandardScaler()\n",
    "X_scaled = pd.DataFrame(scaler.fit_transform(X), columns=X.columns, index=X.index)\n"
   ]
  },
  {
   "cell_type": "code",
   "execution_count": 10,
   "metadata": {},
   "outputs": [
    {
     "output_type": "execute_result",
     "data": {
      "text/plain": "            Lyrical/Misc  Bragging/Combative  Money/Party  Romance/Sex  \\\nartist                                                                   \n03 Greedo      -1.108094            1.115106     0.780540    -0.227123   \n070 Shake      -0.834664           -1.035582     0.819309     1.803736   \n2 Chainz       -0.526146            0.147511     0.827469    -0.671790   \n2 Pistols      -0.974242            0.556940     0.561764     0.592036   \n21 Savage      -1.590426            1.447984     2.694137    -0.475869   \n...                  ...                 ...          ...          ...   \nZebra Katz      0.134856           -0.444954     0.591835     0.156195   \nZelooperz      -0.491603            0.967847    -0.623256    -0.681979   \nZion I          0.743504           -1.112303    -0.629578    -0.697615   \nbbno$          -1.422031           -0.528276    -0.558746    -0.413536   \nwill.i.am      -1.920378           -0.036947     2.783435     2.152477   \n\n            words_per_line  unique_words  unique_word_rate  \\\nartist                                                       \n03 Greedo         0.514503     -0.344285         -1.123740   \n070 Shake        -0.442401     -1.017869         -1.090486   \n2 Chainz          0.056722     -0.221446          0.307881   \n2 Pistols        -0.883727     -0.444150         -0.065240   \n21 Savage         0.161960     -0.291975         -1.150268   \n...                    ...           ...               ...   \nZebra Katz       -1.557956     -1.081511          0.048671   \nZelooperz        -0.571284     -0.826780          0.670745   \nZion I            0.343493      0.004780          1.278952   \nbbno$            -0.308622     -1.652544         -2.257284   \nwill.i.am         0.141036     -0.648589         -1.370463   \n\n            syllables_per_line  syllables_per_word  \nartist                                              \n03 Greedo             0.482583           -0.244783  \n070 Shake            -0.394098            0.285492  \n2 Chainz              0.036345           -0.143757  \n2 Pistols            -1.058428           -1.392879  \n21 Savage            -0.086846           -1.644092  \n...                        ...                 ...  \nZebra Katz           -1.623372           -0.617658  \nZelooperz            -0.664509           -0.790359  \nZion I                0.306897           -0.220902  \nbbno$                -0.015490            2.038551  \nwill.i.am             0.054167           -0.573045  \n\n[1260 rows x 9 columns]",
      "text/html": "<div>\n<style scoped>\n    .dataframe tbody tr th:only-of-type {\n        vertical-align: middle;\n    }\n\n    .dataframe tbody tr th {\n        vertical-align: top;\n    }\n\n    .dataframe thead th {\n        text-align: right;\n    }\n</style>\n<table border=\"1\" class=\"dataframe\">\n  <thead>\n    <tr style=\"text-align: right;\">\n      <th></th>\n      <th>Lyrical/Misc</th>\n      <th>Bragging/Combative</th>\n      <th>Money/Party</th>\n      <th>Romance/Sex</th>\n      <th>words_per_line</th>\n      <th>unique_words</th>\n      <th>unique_word_rate</th>\n      <th>syllables_per_line</th>\n      <th>syllables_per_word</th>\n    </tr>\n    <tr>\n      <th>artist</th>\n      <th></th>\n      <th></th>\n      <th></th>\n      <th></th>\n      <th></th>\n      <th></th>\n      <th></th>\n      <th></th>\n      <th></th>\n    </tr>\n  </thead>\n  <tbody>\n    <tr>\n      <th>03 Greedo</th>\n      <td>-1.108094</td>\n      <td>1.115106</td>\n      <td>0.780540</td>\n      <td>-0.227123</td>\n      <td>0.514503</td>\n      <td>-0.344285</td>\n      <td>-1.123740</td>\n      <td>0.482583</td>\n      <td>-0.244783</td>\n    </tr>\n    <tr>\n      <th>070 Shake</th>\n      <td>-0.834664</td>\n      <td>-1.035582</td>\n      <td>0.819309</td>\n      <td>1.803736</td>\n      <td>-0.442401</td>\n      <td>-1.017869</td>\n      <td>-1.090486</td>\n      <td>-0.394098</td>\n      <td>0.285492</td>\n    </tr>\n    <tr>\n      <th>2 Chainz</th>\n      <td>-0.526146</td>\n      <td>0.147511</td>\n      <td>0.827469</td>\n      <td>-0.671790</td>\n      <td>0.056722</td>\n      <td>-0.221446</td>\n      <td>0.307881</td>\n      <td>0.036345</td>\n      <td>-0.143757</td>\n    </tr>\n    <tr>\n      <th>2 Pistols</th>\n      <td>-0.974242</td>\n      <td>0.556940</td>\n      <td>0.561764</td>\n      <td>0.592036</td>\n      <td>-0.883727</td>\n      <td>-0.444150</td>\n      <td>-0.065240</td>\n      <td>-1.058428</td>\n      <td>-1.392879</td>\n    </tr>\n    <tr>\n      <th>21 Savage</th>\n      <td>-1.590426</td>\n      <td>1.447984</td>\n      <td>2.694137</td>\n      <td>-0.475869</td>\n      <td>0.161960</td>\n      <td>-0.291975</td>\n      <td>-1.150268</td>\n      <td>-0.086846</td>\n      <td>-1.644092</td>\n    </tr>\n    <tr>\n      <th>...</th>\n      <td>...</td>\n      <td>...</td>\n      <td>...</td>\n      <td>...</td>\n      <td>...</td>\n      <td>...</td>\n      <td>...</td>\n      <td>...</td>\n      <td>...</td>\n    </tr>\n    <tr>\n      <th>Zebra Katz</th>\n      <td>0.134856</td>\n      <td>-0.444954</td>\n      <td>0.591835</td>\n      <td>0.156195</td>\n      <td>-1.557956</td>\n      <td>-1.081511</td>\n      <td>0.048671</td>\n      <td>-1.623372</td>\n      <td>-0.617658</td>\n    </tr>\n    <tr>\n      <th>Zelooperz</th>\n      <td>-0.491603</td>\n      <td>0.967847</td>\n      <td>-0.623256</td>\n      <td>-0.681979</td>\n      <td>-0.571284</td>\n      <td>-0.826780</td>\n      <td>0.670745</td>\n      <td>-0.664509</td>\n      <td>-0.790359</td>\n    </tr>\n    <tr>\n      <th>Zion I</th>\n      <td>0.743504</td>\n      <td>-1.112303</td>\n      <td>-0.629578</td>\n      <td>-0.697615</td>\n      <td>0.343493</td>\n      <td>0.004780</td>\n      <td>1.278952</td>\n      <td>0.306897</td>\n      <td>-0.220902</td>\n    </tr>\n    <tr>\n      <th>bbno$</th>\n      <td>-1.422031</td>\n      <td>-0.528276</td>\n      <td>-0.558746</td>\n      <td>-0.413536</td>\n      <td>-0.308622</td>\n      <td>-1.652544</td>\n      <td>-2.257284</td>\n      <td>-0.015490</td>\n      <td>2.038551</td>\n    </tr>\n    <tr>\n      <th>will.i.am</th>\n      <td>-1.920378</td>\n      <td>-0.036947</td>\n      <td>2.783435</td>\n      <td>2.152477</td>\n      <td>0.141036</td>\n      <td>-0.648589</td>\n      <td>-1.370463</td>\n      <td>0.054167</td>\n      <td>-0.573045</td>\n    </tr>\n  </tbody>\n</table>\n<p>1260 rows × 9 columns</p>\n</div>"
     },
     "metadata": {},
     "execution_count": 10
    }
   ],
   "source": [
    "X_scaled"
   ]
  },
  {
   "cell_type": "code",
   "execution_count": 11,
   "metadata": {},
   "outputs": [
    {
     "output_type": "execute_result",
     "data": {
      "text/plain": "KMeans(n_clusters=5, n_init=3, random_state=77)"
     },
     "metadata": {},
     "execution_count": 11
    }
   ],
   "source": [
    "clusters = 5\n",
    "km = KMeans(n_clusters=clusters, random_state=77, n_init=3)\n",
    "km.fit(X_scaled)"
   ]
  },
  {
   "cell_type": "code",
   "execution_count": 16,
   "metadata": {},
   "outputs": [
    {
     "output_type": "execute_result",
     "data": {
      "text/plain": "            Lyrical/Misc  Bragging/Combative  Money/Party  Romance/Sex  \\\nartist                                                                   \n03 Greedo       0.012388            0.040464     0.021360     0.011842   \n070 Shake       0.015179            0.001804     0.021861     0.036665   \n2 Chainz        0.018329            0.023071     0.021967     0.006407   \n2 Pistols       0.013755            0.030431     0.018532     0.021855   \n21 Savage       0.007464            0.046448     0.046098     0.008801   \n...                  ...                 ...          ...          ...   \nZebra Katz      0.025077            0.012421     0.018921     0.016527   \nZelooperz       0.018682            0.037817     0.003213     0.006282   \nZion I          0.031290            0.000425     0.003131     0.006091   \nbbno$           0.009183            0.010923     0.004047     0.009563   \nwill.i.am       0.004096            0.019755     0.047252     0.040928   \n\n            words_per_line  unique_words  unique_word_rate  \\\nartist                                                       \n03 Greedo        35.125816    185.375000          0.070810   \n070 Shake        30.507007    137.470588          0.071274   \n2 Chainz         32.916186    194.111111          0.090778   \n2 Pistols        28.376804    178.272727          0.085574   \n21 Savage        33.424155    189.095238          0.070440   \n...                    ...           ...               ...   \nZebra Katz       25.122420    132.944444          0.087163   \nZelooperz        29.884914    151.060606          0.095839   \nZion I           34.300381    210.200000          0.104322   \nbbno$            31.152735     92.333333          0.055000   \nwill.i.am        33.323155    163.733333          0.067369   \n\n            syllables_per_line  syllables_per_word  cluster  \nartist                                                       \n03 Greedo             9.211347            0.261876        2  \n070 Shake             8.091570            0.264949        4  \n2 Chainz              8.641371            0.262462        2  \n2 Pistols             7.243027            0.255224        2  \n21 Savage             8.484020            0.253769        0  \n...                        ...                 ...      ...  \nZebra Katz            6.521429            0.259716        4  \nZelooperz             7.746176            0.258715        2  \nZion I                8.986945            0.262015        3  \nbbno$                 8.575163            0.275106        4  \nwill.i.am             8.664136            0.259974        0  \n\n[1260 rows x 10 columns]",
      "text/html": "<div>\n<style scoped>\n    .dataframe tbody tr th:only-of-type {\n        vertical-align: middle;\n    }\n\n    .dataframe tbody tr th {\n        vertical-align: top;\n    }\n\n    .dataframe thead th {\n        text-align: right;\n    }\n</style>\n<table border=\"1\" class=\"dataframe\">\n  <thead>\n    <tr style=\"text-align: right;\">\n      <th></th>\n      <th>Lyrical/Misc</th>\n      <th>Bragging/Combative</th>\n      <th>Money/Party</th>\n      <th>Romance/Sex</th>\n      <th>words_per_line</th>\n      <th>unique_words</th>\n      <th>unique_word_rate</th>\n      <th>syllables_per_line</th>\n      <th>syllables_per_word</th>\n      <th>cluster</th>\n    </tr>\n    <tr>\n      <th>artist</th>\n      <th></th>\n      <th></th>\n      <th></th>\n      <th></th>\n      <th></th>\n      <th></th>\n      <th></th>\n      <th></th>\n      <th></th>\n      <th></th>\n    </tr>\n  </thead>\n  <tbody>\n    <tr>\n      <th>03 Greedo</th>\n      <td>0.012388</td>\n      <td>0.040464</td>\n      <td>0.021360</td>\n      <td>0.011842</td>\n      <td>35.125816</td>\n      <td>185.375000</td>\n      <td>0.070810</td>\n      <td>9.211347</td>\n      <td>0.261876</td>\n      <td>2</td>\n    </tr>\n    <tr>\n      <th>070 Shake</th>\n      <td>0.015179</td>\n      <td>0.001804</td>\n      <td>0.021861</td>\n      <td>0.036665</td>\n      <td>30.507007</td>\n      <td>137.470588</td>\n      <td>0.071274</td>\n      <td>8.091570</td>\n      <td>0.264949</td>\n      <td>4</td>\n    </tr>\n    <tr>\n      <th>2 Chainz</th>\n      <td>0.018329</td>\n      <td>0.023071</td>\n      <td>0.021967</td>\n      <td>0.006407</td>\n      <td>32.916186</td>\n      <td>194.111111</td>\n      <td>0.090778</td>\n      <td>8.641371</td>\n      <td>0.262462</td>\n      <td>2</td>\n    </tr>\n    <tr>\n      <th>2 Pistols</th>\n      <td>0.013755</td>\n      <td>0.030431</td>\n      <td>0.018532</td>\n      <td>0.021855</td>\n      <td>28.376804</td>\n      <td>178.272727</td>\n      <td>0.085574</td>\n      <td>7.243027</td>\n      <td>0.255224</td>\n      <td>2</td>\n    </tr>\n    <tr>\n      <th>21 Savage</th>\n      <td>0.007464</td>\n      <td>0.046448</td>\n      <td>0.046098</td>\n      <td>0.008801</td>\n      <td>33.424155</td>\n      <td>189.095238</td>\n      <td>0.070440</td>\n      <td>8.484020</td>\n      <td>0.253769</td>\n      <td>0</td>\n    </tr>\n    <tr>\n      <th>...</th>\n      <td>...</td>\n      <td>...</td>\n      <td>...</td>\n      <td>...</td>\n      <td>...</td>\n      <td>...</td>\n      <td>...</td>\n      <td>...</td>\n      <td>...</td>\n      <td>...</td>\n    </tr>\n    <tr>\n      <th>Zebra Katz</th>\n      <td>0.025077</td>\n      <td>0.012421</td>\n      <td>0.018921</td>\n      <td>0.016527</td>\n      <td>25.122420</td>\n      <td>132.944444</td>\n      <td>0.087163</td>\n      <td>6.521429</td>\n      <td>0.259716</td>\n      <td>4</td>\n    </tr>\n    <tr>\n      <th>Zelooperz</th>\n      <td>0.018682</td>\n      <td>0.037817</td>\n      <td>0.003213</td>\n      <td>0.006282</td>\n      <td>29.884914</td>\n      <td>151.060606</td>\n      <td>0.095839</td>\n      <td>7.746176</td>\n      <td>0.258715</td>\n      <td>2</td>\n    </tr>\n    <tr>\n      <th>Zion I</th>\n      <td>0.031290</td>\n      <td>0.000425</td>\n      <td>0.003131</td>\n      <td>0.006091</td>\n      <td>34.300381</td>\n      <td>210.200000</td>\n      <td>0.104322</td>\n      <td>8.986945</td>\n      <td>0.262015</td>\n      <td>3</td>\n    </tr>\n    <tr>\n      <th>bbno$</th>\n      <td>0.009183</td>\n      <td>0.010923</td>\n      <td>0.004047</td>\n      <td>0.009563</td>\n      <td>31.152735</td>\n      <td>92.333333</td>\n      <td>0.055000</td>\n      <td>8.575163</td>\n      <td>0.275106</td>\n      <td>4</td>\n    </tr>\n    <tr>\n      <th>will.i.am</th>\n      <td>0.004096</td>\n      <td>0.019755</td>\n      <td>0.047252</td>\n      <td>0.040928</td>\n      <td>33.323155</td>\n      <td>163.733333</td>\n      <td>0.067369</td>\n      <td>8.664136</td>\n      <td>0.259974</td>\n      <td>0</td>\n    </tr>\n  </tbody>\n</table>\n<p>1260 rows × 10 columns</p>\n</div>"
     },
     "metadata": {},
     "execution_count": 16
    }
   ],
   "source": [
    "X_labeled = X.copy()\n",
    "X_labeled['cluster'] = km.labels_\n",
    "X_labeled"
   ]
  },
  {
   "cell_type": "code",
   "execution_count": 41,
   "metadata": {},
   "outputs": [
    {
     "output_type": "execute_result",
     "data": {
      "text/plain": "         Lyrical/Misc  Bragging/Combative  Money/Party  Romance/Sex  \\\ncluster                                                               \n0                 122                 122          122          122   \n1                 217                 217          217          217   \n2                 277                 277          277          277   \n3                 401                 401          401          401   \n4                 243                 243          243          243   \n\n         words_per_line  unique_words  unique_word_rate  syllables_per_line  \\\ncluster                                                                       \n0                   122           122               122                 122   \n1                   217           217               217                 217   \n2                   277           277               277                 277   \n3                   401           401               401                 401   \n4                   243           243               243                 243   \n\n         syllables_per_word  \ncluster                      \n0                       122  \n1                       217  \n2                       277  \n3                       401  \n4                       243  ",
      "text/html": "<div>\n<style scoped>\n    .dataframe tbody tr th:only-of-type {\n        vertical-align: middle;\n    }\n\n    .dataframe tbody tr th {\n        vertical-align: top;\n    }\n\n    .dataframe thead th {\n        text-align: right;\n    }\n</style>\n<table border=\"1\" class=\"dataframe\">\n  <thead>\n    <tr style=\"text-align: right;\">\n      <th></th>\n      <th>Lyrical/Misc</th>\n      <th>Bragging/Combative</th>\n      <th>Money/Party</th>\n      <th>Romance/Sex</th>\n      <th>words_per_line</th>\n      <th>unique_words</th>\n      <th>unique_word_rate</th>\n      <th>syllables_per_line</th>\n      <th>syllables_per_word</th>\n    </tr>\n    <tr>\n      <th>cluster</th>\n      <th></th>\n      <th></th>\n      <th></th>\n      <th></th>\n      <th></th>\n      <th></th>\n      <th></th>\n      <th></th>\n      <th></th>\n    </tr>\n  </thead>\n  <tbody>\n    <tr>\n      <th>0</th>\n      <td>122</td>\n      <td>122</td>\n      <td>122</td>\n      <td>122</td>\n      <td>122</td>\n      <td>122</td>\n      <td>122</td>\n      <td>122</td>\n      <td>122</td>\n    </tr>\n    <tr>\n      <th>1</th>\n      <td>217</td>\n      <td>217</td>\n      <td>217</td>\n      <td>217</td>\n      <td>217</td>\n      <td>217</td>\n      <td>217</td>\n      <td>217</td>\n      <td>217</td>\n    </tr>\n    <tr>\n      <th>2</th>\n      <td>277</td>\n      <td>277</td>\n      <td>277</td>\n      <td>277</td>\n      <td>277</td>\n      <td>277</td>\n      <td>277</td>\n      <td>277</td>\n      <td>277</td>\n    </tr>\n    <tr>\n      <th>3</th>\n      <td>401</td>\n      <td>401</td>\n      <td>401</td>\n      <td>401</td>\n      <td>401</td>\n      <td>401</td>\n      <td>401</td>\n      <td>401</td>\n      <td>401</td>\n    </tr>\n    <tr>\n      <th>4</th>\n      <td>243</td>\n      <td>243</td>\n      <td>243</td>\n      <td>243</td>\n      <td>243</td>\n      <td>243</td>\n      <td>243</td>\n      <td>243</td>\n      <td>243</td>\n    </tr>\n  </tbody>\n</table>\n</div>"
     },
     "metadata": {},
     "execution_count": 41
    }
   ],
   "source": [
    "X_labeled.groupby('cluster').count()"
   ]
  },
  {
   "cell_type": "code",
   "execution_count": 13,
   "metadata": {},
   "outputs": [
    {
     "output_type": "error",
     "ename": "NameError",
     "evalue": "name 'X_labeled' is not defined",
     "traceback": [
      "\u001b[0;31m---------------------------------------------------------------------------\u001b[0m",
      "\u001b[0;31mNameError\u001b[0m                                 Traceback (most recent call last)",
      "\u001b[0;32m<ipython-input-13-75dbeefb4c2b>\u001b[0m in \u001b[0;36m<module>\u001b[0;34m\u001b[0m\n\u001b[0;32m----> 1\u001b[0;31m \u001b[0mlist\u001b[0m\u001b[0;34m(\u001b[0m\u001b[0mX_labeled\u001b[0m\u001b[0;34m.\u001b[0m\u001b[0mreset_index\u001b[0m\u001b[0;34m(\u001b[0m\u001b[0;34m)\u001b[0m\u001b[0;34m[\u001b[0m\u001b[0mX_labeled\u001b[0m\u001b[0;34m.\u001b[0m\u001b[0mreset_index\u001b[0m\u001b[0;34m(\u001b[0m\u001b[0;34m)\u001b[0m\u001b[0;34m[\u001b[0m\u001b[0;34m'cluster'\u001b[0m\u001b[0;34m]\u001b[0m \u001b[0;34m==\u001b[0m \u001b[0;36m4\u001b[0m\u001b[0;34m]\u001b[0m\u001b[0;34m[\u001b[0m\u001b[0;34m'artist'\u001b[0m\u001b[0;34m]\u001b[0m\u001b[0;34m)\u001b[0m\u001b[0;34m[\u001b[0m\u001b[0;36m0\u001b[0m\u001b[0;34m:\u001b[0m\u001b[0;36m20\u001b[0m\u001b[0;34m]\u001b[0m\u001b[0;34m\u001b[0m\u001b[0;34m\u001b[0m\u001b[0m\n\u001b[0m",
      "\u001b[0;31mNameError\u001b[0m: name 'X_labeled' is not defined"
     ]
    }
   ],
   "source": [
    "list(X_labeled.reset_index()[X_labeled.reset_index()['cluster'] == 4]['artist'])[0:20]"
   ]
  },
  {
   "cell_type": "markdown",
   "metadata": {},
   "source": [
    "#### Notes: \n",
    "#### k=5:\n",
    "Cluster 0 has 122, Cluster 3 has 401, rest around 2-300\n",
    "* 0: Count: 122 -- Money/Party dominated, average words/line, 2nd lowest unique word usage, average syllables per line, lowest syllables per word \n",
    "* 1: Count: 217 -- Lyrical/Misc dominated, mild Bragging/Combative, highest words/line, highest unique words/rate, highest syllables per line and word\n",
    "* 2: Count: 277 -- Bragging/Combative Dominated, average everything\n",
    "* 3: Count: 401 -- Lyrical/Misc dominated, mild Bragging/Combative AND Romance/Sex, average words/line, above average unique word rate, average syllables per line/word\n",
    "* 4: Count: 243 -- Romance/Sex dominated, mild Lyrical/Misc, lowest words/line by far, lowest unique words/rate, lowest syllables/line, but average per word\n",
    "\n",
    "Example artists in Each Cluster:\n",
    "* 0: Cardi B/Nicki Minaj/Megan Thee Stallion, Roddy Ricch, Travis Scott, Young Thug, XXXTentacion\n",
    "* 1: Aesop Rock, Eminem, Ghostface Killah, J. Cole, Lil Wayne\n",
    "* 2: 2 Chainz, 50 Cent, DMX, Snoop Dogg, Wiz Khalifa\n",
    "* 3: Andre 3000, Chance the Rapper, Childish Gambino, Kendrick Lamar, Lupe Fiasco, Macklemore\n",
    "* 4: Chris Brown, Jason Derulo, Kid Cudi, Lauryn Hill, Post Malone, The Weeknd\n",
    "\n",
    "Cluster Analysis: \n",
    "* 0: Hard to interpret. Chiefly generic money/party semantic content, most simplistic word usage. Seems to house most of the trap/'vibe'/mumble rappers. Some artists don't seem very accurately placed (e.g. Cardi/Nicki/Megan). \n",
    "* 1: Clearly home to most 'lyrical' rappers. Dominant cluster in terms of vocabulary and syllable density.\n",
    "* 2: Very non-descript, middle of the pack by every metric. Seems to house a lot of older, 'standard' flow rappers.\n",
    "* 3: Seems to capture most 'musically' oriented rappers -- lyrical diversity but not massive density, widest variety of topics.\n",
    "* 4: Effectively captures most R&B artists. Romance/Sex oriented lyrics with minimal lyrical diversity."
   ]
  },
  {
   "cell_type": "code",
   "execution_count": 112,
   "metadata": {},
   "outputs": [],
   "source": [
    "class Cluster():\n",
    "\n",
    "    def __init__(self, data, scaler, n_clusters, n_init, cluster):\n",
    "        self.data = data.copy()\n",
    "        self.scaler = scaler()\n",
    "        self.n_clusters = n_clusters\n",
    "        self.n_init = n_init\n",
    "        self.cluster = cluster(n_clusters=self.n_clusters, random_state=77, n_init=self.n_init)\n",
    "        self.cluster_counts_ = None\n",
    "        self.centroids_ = None\n",
    "        self.inertia_ = None\n",
    "\n",
    "    def scale(self):\n",
    "        self.data = pd.DataFrame(self.scaler.fit_transform(self.data), columns=self.data.columns, index=self.data.index)\n",
    "\n",
    "    def fit(self):\n",
    "        self.cluster.fit(self.data)\n",
    "        self.data['cluster'] = self.cluster.labels_\n",
    "        self.cluster_counts_ = self.data.groupby('cluster').count().iloc[:,0]\n",
    "        self.centroids_ = self.cluster.cluster_centers_\n",
    "        self.inertia_ = self.cluster.inertia_\n",
    "\n",
    "    # def labels_(self):"
   ]
  },
  {
   "cell_type": "code",
   "execution_count": 113,
   "metadata": {},
   "outputs": [],
   "source": [
    "test = Cluster(X, StandardScaler, 5, 3, KMeans)"
   ]
  },
  {
   "cell_type": "code",
   "execution_count": 114,
   "metadata": {},
   "outputs": [],
   "source": [
    "test.scale()\n",
    "test.fit()"
   ]
  },
  {
   "cell_type": "code",
   "execution_count": 115,
   "metadata": {},
   "outputs": [
    {
     "output_type": "execute_result",
     "data": {
      "text/plain": "cluster\n0    122\n1    217\n2    277\n3    401\n4    243\nName: Lyrical/Misc, dtype: int64"
     },
     "metadata": {},
     "execution_count": 115
    }
   ],
   "source": [
    "test.cluster_counts_"
   ]
  },
  {
   "cell_type": "code",
   "execution_count": 84,
   "metadata": {
    "tags": []
   },
   "outputs": [
    {
     "output_type": "execute_result",
     "data": {
      "text/plain": "6217.407430933533"
     },
     "metadata": {},
     "execution_count": 84
    }
   ],
   "source": [
    "test.inertia_"
   ]
  },
  {
   "cell_type": "code",
   "execution_count": 134,
   "metadata": {},
   "outputs": [],
   "source": [
    "# test different sizes of K to plot inertia\n",
    "def kmeans_scree_plot(data, scaler, min_k, max_k, n_iter):\n",
    "    cluster = Cluster(data, scaler, min_k, n_iter, KMeans)\n",
    "    n_clusters = [i for i in range(min_k,max_k+1)]    \n",
    "    inertias = []\n",
    "    cluster.scale()\n",
    "    data = cluster.data\n",
    "    for k in n_clusters:\n",
    "        cluster = Cluster(data, scaler, k, n_iter, KMeans)\n",
    "        cluster.fit()\n",
    "        inertias.append(cluster.inertia_)\n",
    "    plt.plot(n_clusters, inertias)\n",
    "    print(list(zip(n_clusters, inertias)))"
   ]
  },
  {
   "cell_type": "code",
   "execution_count": 139,
   "metadata": {
    "tags": []
   },
   "outputs": [
    {
     "output_type": "stream",
     "name": "stdout",
     "text": "[(1, 11339.999999999995), (2, 8614.935817990692), (3, 7331.596649107567), (4, 6706.899426784931), (5, 6214.874937951342), (6, 5840.953491987842), (7, 5559.502866760166), (8, 5320.678783523608), (9, 5101.243093356314), (10, 4933.883314182881), (11, 4774.095989141835), (12, 4631.5356525948055), (13, 4483.546130619044), (14, 4386.907144179993), (15, 4274.258909785878), (16, 4172.932674590118), (17, 4079.41095828764), (18, 3993.685470226637), (19, 3928.460942792269), (20, 3853.8055212686886), (21, 3794.5422758937784), (22, 3743.1758529489825), (23, 3682.636851107108), (24, 3634.5868625389016), (25, 3569.9979365253616), (26, 3525.3481391385885), (27, 3488.460420697032), (28, 3441.828583305377), (29, 3411.523404539594), (30, 3356.094963840744)]\n"
    },
    {
     "output_type": "display_data",
     "data": {
      "text/plain": "<Figure size 432x288 with 1 Axes>",
      "image/svg+xml": "<?xml version=\"1.0\" encoding=\"utf-8\" standalone=\"no\"?>\n<!DOCTYPE svg PUBLIC \"-//W3C//DTD SVG 1.1//EN\"\n  \"http://www.w3.org/Graphics/SVG/1.1/DTD/svg11.dtd\">\n<!-- Created with matplotlib (https://matplotlib.org/) -->\n<svg height=\"248.518125pt\" version=\"1.1\" viewBox=\"0 0 388.0125 248.518125\" width=\"388.0125pt\" xmlns=\"http://www.w3.org/2000/svg\" xmlns:xlink=\"http://www.w3.org/1999/xlink\">\n <defs>\n  <style type=\"text/css\">\n*{stroke-linecap:butt;stroke-linejoin:round;}\n  </style>\n </defs>\n <g id=\"figure_1\">\n  <g id=\"patch_1\">\n   <path d=\"M 0 248.518125 \nL 388.0125 248.518125 \nL 388.0125 0 \nL 0 0 \nz\n\" style=\"fill:none;\"/>\n  </g>\n  <g id=\"axes_1\">\n   <g id=\"patch_2\">\n    <path d=\"M 46.0125 224.64 \nL 380.8125 224.64 \nL 380.8125 7.2 \nL 46.0125 7.2 \nz\n\" style=\"fill:#ffffff;\"/>\n   </g>\n   <g id=\"matplotlib.axis_1\">\n    <g id=\"xtick_1\">\n     <g id=\"line2d_1\">\n      <defs>\n       <path d=\"M 0 0 \nL 0 3.5 \n\" id=\"m8e8b9aa3d5\" style=\"stroke:#000000;stroke-width:0.8;\"/>\n      </defs>\n      <g>\n       <use style=\"stroke:#000000;stroke-width:0.8;\" x=\"50.735384\" xlink:href=\"#m8e8b9aa3d5\" y=\"224.64\"/>\n      </g>\n     </g>\n     <g id=\"text_1\">\n      <!-- 0 -->\n      <defs>\n       <path d=\"M 31.78125 66.40625 \nQ 24.171875 66.40625 20.328125 58.90625 \nQ 16.5 51.421875 16.5 36.375 \nQ 16.5 21.390625 20.328125 13.890625 \nQ 24.171875 6.390625 31.78125 6.390625 \nQ 39.453125 6.390625 43.28125 13.890625 \nQ 47.125 21.390625 47.125 36.375 \nQ 47.125 51.421875 43.28125 58.90625 \nQ 39.453125 66.40625 31.78125 66.40625 \nz\nM 31.78125 74.21875 \nQ 44.046875 74.21875 50.515625 64.515625 \nQ 56.984375 54.828125 56.984375 36.375 \nQ 56.984375 17.96875 50.515625 8.265625 \nQ 44.046875 -1.421875 31.78125 -1.421875 \nQ 19.53125 -1.421875 13.0625 8.265625 \nQ 6.59375 17.96875 6.59375 36.375 \nQ 6.59375 54.828125 13.0625 64.515625 \nQ 19.53125 74.21875 31.78125 74.21875 \nz\n\" id=\"DejaVuSans-48\"/>\n      </defs>\n      <g transform=\"translate(47.554134 239.238438)scale(0.1 -0.1)\">\n       <use xlink:href=\"#DejaVuSans-48\"/>\n      </g>\n     </g>\n    </g>\n    <g id=\"xtick_2\">\n     <g id=\"line2d_2\">\n      <g>\n       <use style=\"stroke:#000000;stroke-width:0.8;\" x=\"103.211873\" xlink:href=\"#m8e8b9aa3d5\" y=\"224.64\"/>\n      </g>\n     </g>\n     <g id=\"text_2\">\n      <!-- 5 -->\n      <defs>\n       <path d=\"M 10.796875 72.90625 \nL 49.515625 72.90625 \nL 49.515625 64.59375 \nL 19.828125 64.59375 \nL 19.828125 46.734375 \nQ 21.96875 47.46875 24.109375 47.828125 \nQ 26.265625 48.1875 28.421875 48.1875 \nQ 40.625 48.1875 47.75 41.5 \nQ 54.890625 34.8125 54.890625 23.390625 \nQ 54.890625 11.625 47.5625 5.09375 \nQ 40.234375 -1.421875 26.90625 -1.421875 \nQ 22.3125 -1.421875 17.546875 -0.640625 \nQ 12.796875 0.140625 7.71875 1.703125 \nL 7.71875 11.625 \nQ 12.109375 9.234375 16.796875 8.0625 \nQ 21.484375 6.890625 26.703125 6.890625 \nQ 35.15625 6.890625 40.078125 11.328125 \nQ 45.015625 15.765625 45.015625 23.390625 \nQ 45.015625 31 40.078125 35.4375 \nQ 35.15625 39.890625 26.703125 39.890625 \nQ 22.75 39.890625 18.8125 39.015625 \nQ 14.890625 38.140625 10.796875 36.28125 \nz\n\" id=\"DejaVuSans-53\"/>\n      </defs>\n      <g transform=\"translate(100.030623 239.238438)scale(0.1 -0.1)\">\n       <use xlink:href=\"#DejaVuSans-53\"/>\n      </g>\n     </g>\n    </g>\n    <g id=\"xtick_3\">\n     <g id=\"line2d_3\">\n      <g>\n       <use style=\"stroke:#000000;stroke-width:0.8;\" x=\"155.688362\" xlink:href=\"#m8e8b9aa3d5\" y=\"224.64\"/>\n      </g>\n     </g>\n     <g id=\"text_3\">\n      <!-- 10 -->\n      <defs>\n       <path d=\"M 12.40625 8.296875 \nL 28.515625 8.296875 \nL 28.515625 63.921875 \nL 10.984375 60.40625 \nL 10.984375 69.390625 \nL 28.421875 72.90625 \nL 38.28125 72.90625 \nL 38.28125 8.296875 \nL 54.390625 8.296875 \nL 54.390625 0 \nL 12.40625 0 \nz\n\" id=\"DejaVuSans-49\"/>\n      </defs>\n      <g transform=\"translate(149.325862 239.238438)scale(0.1 -0.1)\">\n       <use xlink:href=\"#DejaVuSans-49\"/>\n       <use x=\"63.623047\" xlink:href=\"#DejaVuSans-48\"/>\n      </g>\n     </g>\n    </g>\n    <g id=\"xtick_4\">\n     <g id=\"line2d_4\">\n      <g>\n       <use style=\"stroke:#000000;stroke-width:0.8;\" x=\"208.164851\" xlink:href=\"#m8e8b9aa3d5\" y=\"224.64\"/>\n      </g>\n     </g>\n     <g id=\"text_4\">\n      <!-- 15 -->\n      <g transform=\"translate(201.802351 239.238438)scale(0.1 -0.1)\">\n       <use xlink:href=\"#DejaVuSans-49\"/>\n       <use x=\"63.623047\" xlink:href=\"#DejaVuSans-53\"/>\n      </g>\n     </g>\n    </g>\n    <g id=\"xtick_5\">\n     <g id=\"line2d_5\">\n      <g>\n       <use style=\"stroke:#000000;stroke-width:0.8;\" x=\"260.64134\" xlink:href=\"#m8e8b9aa3d5\" y=\"224.64\"/>\n      </g>\n     </g>\n     <g id=\"text_5\">\n      <!-- 20 -->\n      <defs>\n       <path d=\"M 19.1875 8.296875 \nL 53.609375 8.296875 \nL 53.609375 0 \nL 7.328125 0 \nL 7.328125 8.296875 \nQ 12.9375 14.109375 22.625 23.890625 \nQ 32.328125 33.6875 34.8125 36.53125 \nQ 39.546875 41.84375 41.421875 45.53125 \nQ 43.3125 49.21875 43.3125 52.78125 \nQ 43.3125 58.59375 39.234375 62.25 \nQ 35.15625 65.921875 28.609375 65.921875 \nQ 23.96875 65.921875 18.8125 64.3125 \nQ 13.671875 62.703125 7.8125 59.421875 \nL 7.8125 69.390625 \nQ 13.765625 71.78125 18.9375 73 \nQ 24.125 74.21875 28.421875 74.21875 \nQ 39.75 74.21875 46.484375 68.546875 \nQ 53.21875 62.890625 53.21875 53.421875 \nQ 53.21875 48.921875 51.53125 44.890625 \nQ 49.859375 40.875 45.40625 35.40625 \nQ 44.1875 33.984375 37.640625 27.21875 \nQ 31.109375 20.453125 19.1875 8.296875 \nz\n\" id=\"DejaVuSans-50\"/>\n      </defs>\n      <g transform=\"translate(254.27884 239.238438)scale(0.1 -0.1)\">\n       <use xlink:href=\"#DejaVuSans-50\"/>\n       <use x=\"63.623047\" xlink:href=\"#DejaVuSans-48\"/>\n      </g>\n     </g>\n    </g>\n    <g id=\"xtick_6\">\n     <g id=\"line2d_6\">\n      <g>\n       <use style=\"stroke:#000000;stroke-width:0.8;\" x=\"313.117829\" xlink:href=\"#m8e8b9aa3d5\" y=\"224.64\"/>\n      </g>\n     </g>\n     <g id=\"text_6\">\n      <!-- 25 -->\n      <g transform=\"translate(306.755329 239.238438)scale(0.1 -0.1)\">\n       <use xlink:href=\"#DejaVuSans-50\"/>\n       <use x=\"63.623047\" xlink:href=\"#DejaVuSans-53\"/>\n      </g>\n     </g>\n    </g>\n    <g id=\"xtick_7\">\n     <g id=\"line2d_7\">\n      <g>\n       <use style=\"stroke:#000000;stroke-width:0.8;\" x=\"365.594318\" xlink:href=\"#m8e8b9aa3d5\" y=\"224.64\"/>\n      </g>\n     </g>\n     <g id=\"text_7\">\n      <!-- 30 -->\n      <defs>\n       <path d=\"M 40.578125 39.3125 \nQ 47.65625 37.796875 51.625 33 \nQ 55.609375 28.21875 55.609375 21.1875 \nQ 55.609375 10.40625 48.1875 4.484375 \nQ 40.765625 -1.421875 27.09375 -1.421875 \nQ 22.515625 -1.421875 17.65625 -0.515625 \nQ 12.796875 0.390625 7.625 2.203125 \nL 7.625 11.71875 \nQ 11.71875 9.328125 16.59375 8.109375 \nQ 21.484375 6.890625 26.8125 6.890625 \nQ 36.078125 6.890625 40.9375 10.546875 \nQ 45.796875 14.203125 45.796875 21.1875 \nQ 45.796875 27.640625 41.28125 31.265625 \nQ 36.765625 34.90625 28.71875 34.90625 \nL 20.21875 34.90625 \nL 20.21875 43.015625 \nL 29.109375 43.015625 \nQ 36.375 43.015625 40.234375 45.921875 \nQ 44.09375 48.828125 44.09375 54.296875 \nQ 44.09375 59.90625 40.109375 62.90625 \nQ 36.140625 65.921875 28.71875 65.921875 \nQ 24.65625 65.921875 20.015625 65.03125 \nQ 15.375 64.15625 9.8125 62.3125 \nL 9.8125 71.09375 \nQ 15.4375 72.65625 20.34375 73.4375 \nQ 25.25 74.21875 29.59375 74.21875 \nQ 40.828125 74.21875 47.359375 69.109375 \nQ 53.90625 64.015625 53.90625 55.328125 \nQ 53.90625 49.265625 50.4375 45.09375 \nQ 46.96875 40.921875 40.578125 39.3125 \nz\n\" id=\"DejaVuSans-51\"/>\n      </defs>\n      <g transform=\"translate(359.231818 239.238438)scale(0.1 -0.1)\">\n       <use xlink:href=\"#DejaVuSans-51\"/>\n       <use x=\"63.623047\" xlink:href=\"#DejaVuSans-48\"/>\n      </g>\n     </g>\n    </g>\n   </g>\n   <g id=\"matplotlib.axis_2\">\n    <g id=\"ytick_1\">\n     <g id=\"line2d_8\">\n      <defs>\n       <path d=\"M 0 0 \nL -3.5 0 \n\" id=\"mf2888ffed7\" style=\"stroke:#000000;stroke-width:0.8;\"/>\n      </defs>\n      <g>\n       <use style=\"stroke:#000000;stroke-width:0.8;\" x=\"46.0125\" xlink:href=\"#mf2888ffed7\" y=\"223.572884\"/>\n      </g>\n     </g>\n     <g id=\"text_8\">\n      <!-- 3000 -->\n      <g transform=\"translate(13.5625 227.372103)scale(0.1 -0.1)\">\n       <use xlink:href=\"#DejaVuSans-51\"/>\n       <use x=\"63.623047\" xlink:href=\"#DejaVuSans-48\"/>\n       <use x=\"127.246094\" xlink:href=\"#DejaVuSans-48\"/>\n       <use x=\"190.869141\" xlink:href=\"#DejaVuSans-48\"/>\n      </g>\n     </g>\n    </g>\n    <g id=\"ytick_2\">\n     <g id=\"line2d_9\">\n      <g>\n       <use style=\"stroke:#000000;stroke-width:0.8;\" x=\"46.0125\" xlink:href=\"#mf2888ffed7\" y=\"198.813982\"/>\n      </g>\n     </g>\n     <g id=\"text_9\">\n      <!-- 4000 -->\n      <defs>\n       <path d=\"M 37.796875 64.3125 \nL 12.890625 25.390625 \nL 37.796875 25.390625 \nz\nM 35.203125 72.90625 \nL 47.609375 72.90625 \nL 47.609375 25.390625 \nL 58.015625 25.390625 \nL 58.015625 17.1875 \nL 47.609375 17.1875 \nL 47.609375 0 \nL 37.796875 0 \nL 37.796875 17.1875 \nL 4.890625 17.1875 \nL 4.890625 26.703125 \nz\n\" id=\"DejaVuSans-52\"/>\n      </defs>\n      <g transform=\"translate(13.5625 202.6132)scale(0.1 -0.1)\">\n       <use xlink:href=\"#DejaVuSans-52\"/>\n       <use x=\"63.623047\" xlink:href=\"#DejaVuSans-48\"/>\n       <use x=\"127.246094\" xlink:href=\"#DejaVuSans-48\"/>\n       <use x=\"190.869141\" xlink:href=\"#DejaVuSans-48\"/>\n      </g>\n     </g>\n    </g>\n    <g id=\"ytick_3\">\n     <g id=\"line2d_10\">\n      <g>\n       <use style=\"stroke:#000000;stroke-width:0.8;\" x=\"46.0125\" xlink:href=\"#mf2888ffed7\" y=\"174.055079\"/>\n      </g>\n     </g>\n     <g id=\"text_10\">\n      <!-- 5000 -->\n      <g transform=\"translate(13.5625 177.854298)scale(0.1 -0.1)\">\n       <use xlink:href=\"#DejaVuSans-53\"/>\n       <use x=\"63.623047\" xlink:href=\"#DejaVuSans-48\"/>\n       <use x=\"127.246094\" xlink:href=\"#DejaVuSans-48\"/>\n       <use x=\"190.869141\" xlink:href=\"#DejaVuSans-48\"/>\n      </g>\n     </g>\n    </g>\n    <g id=\"ytick_4\">\n     <g id=\"line2d_11\">\n      <g>\n       <use style=\"stroke:#000000;stroke-width:0.8;\" x=\"46.0125\" xlink:href=\"#mf2888ffed7\" y=\"149.296176\"/>\n      </g>\n     </g>\n     <g id=\"text_11\">\n      <!-- 6000 -->\n      <defs>\n       <path d=\"M 33.015625 40.375 \nQ 26.375 40.375 22.484375 35.828125 \nQ 18.609375 31.296875 18.609375 23.390625 \nQ 18.609375 15.53125 22.484375 10.953125 \nQ 26.375 6.390625 33.015625 6.390625 \nQ 39.65625 6.390625 43.53125 10.953125 \nQ 47.40625 15.53125 47.40625 23.390625 \nQ 47.40625 31.296875 43.53125 35.828125 \nQ 39.65625 40.375 33.015625 40.375 \nz\nM 52.59375 71.296875 \nL 52.59375 62.3125 \nQ 48.875 64.0625 45.09375 64.984375 \nQ 41.3125 65.921875 37.59375 65.921875 \nQ 27.828125 65.921875 22.671875 59.328125 \nQ 17.53125 52.734375 16.796875 39.40625 \nQ 19.671875 43.65625 24.015625 45.921875 \nQ 28.375 48.1875 33.59375 48.1875 \nQ 44.578125 48.1875 50.953125 41.515625 \nQ 57.328125 34.859375 57.328125 23.390625 \nQ 57.328125 12.15625 50.6875 5.359375 \nQ 44.046875 -1.421875 33.015625 -1.421875 \nQ 20.359375 -1.421875 13.671875 8.265625 \nQ 6.984375 17.96875 6.984375 36.375 \nQ 6.984375 53.65625 15.1875 63.9375 \nQ 23.390625 74.21875 37.203125 74.21875 \nQ 40.921875 74.21875 44.703125 73.484375 \nQ 48.484375 72.75 52.59375 71.296875 \nz\n\" id=\"DejaVuSans-54\"/>\n      </defs>\n      <g transform=\"translate(13.5625 153.095395)scale(0.1 -0.1)\">\n       <use xlink:href=\"#DejaVuSans-54\"/>\n       <use x=\"63.623047\" xlink:href=\"#DejaVuSans-48\"/>\n       <use x=\"127.246094\" xlink:href=\"#DejaVuSans-48\"/>\n       <use x=\"190.869141\" xlink:href=\"#DejaVuSans-48\"/>\n      </g>\n     </g>\n    </g>\n    <g id=\"ytick_5\">\n     <g id=\"line2d_12\">\n      <g>\n       <use style=\"stroke:#000000;stroke-width:0.8;\" x=\"46.0125\" xlink:href=\"#mf2888ffed7\" y=\"124.537274\"/>\n      </g>\n     </g>\n     <g id=\"text_12\">\n      <!-- 7000 -->\n      <defs>\n       <path d=\"M 8.203125 72.90625 \nL 55.078125 72.90625 \nL 55.078125 68.703125 \nL 28.609375 0 \nL 18.3125 0 \nL 43.21875 64.59375 \nL 8.203125 64.59375 \nz\n\" id=\"DejaVuSans-55\"/>\n      </defs>\n      <g transform=\"translate(13.5625 128.336492)scale(0.1 -0.1)\">\n       <use xlink:href=\"#DejaVuSans-55\"/>\n       <use x=\"63.623047\" xlink:href=\"#DejaVuSans-48\"/>\n       <use x=\"127.246094\" xlink:href=\"#DejaVuSans-48\"/>\n       <use x=\"190.869141\" xlink:href=\"#DejaVuSans-48\"/>\n      </g>\n     </g>\n    </g>\n    <g id=\"ytick_6\">\n     <g id=\"line2d_13\">\n      <g>\n       <use style=\"stroke:#000000;stroke-width:0.8;\" x=\"46.0125\" xlink:href=\"#mf2888ffed7\" y=\"99.778371\"/>\n      </g>\n     </g>\n     <g id=\"text_13\">\n      <!-- 8000 -->\n      <defs>\n       <path d=\"M 31.78125 34.625 \nQ 24.75 34.625 20.71875 30.859375 \nQ 16.703125 27.09375 16.703125 20.515625 \nQ 16.703125 13.921875 20.71875 10.15625 \nQ 24.75 6.390625 31.78125 6.390625 \nQ 38.8125 6.390625 42.859375 10.171875 \nQ 46.921875 13.96875 46.921875 20.515625 \nQ 46.921875 27.09375 42.890625 30.859375 \nQ 38.875 34.625 31.78125 34.625 \nz\nM 21.921875 38.8125 \nQ 15.578125 40.375 12.03125 44.71875 \nQ 8.5 49.078125 8.5 55.328125 \nQ 8.5 64.0625 14.71875 69.140625 \nQ 20.953125 74.21875 31.78125 74.21875 \nQ 42.671875 74.21875 48.875 69.140625 \nQ 55.078125 64.0625 55.078125 55.328125 \nQ 55.078125 49.078125 51.53125 44.71875 \nQ 48 40.375 41.703125 38.8125 \nQ 48.828125 37.15625 52.796875 32.3125 \nQ 56.78125 27.484375 56.78125 20.515625 \nQ 56.78125 9.90625 50.3125 4.234375 \nQ 43.84375 -1.421875 31.78125 -1.421875 \nQ 19.734375 -1.421875 13.25 4.234375 \nQ 6.78125 9.90625 6.78125 20.515625 \nQ 6.78125 27.484375 10.78125 32.3125 \nQ 14.796875 37.15625 21.921875 38.8125 \nz\nM 18.3125 54.390625 \nQ 18.3125 48.734375 21.84375 45.5625 \nQ 25.390625 42.390625 31.78125 42.390625 \nQ 38.140625 42.390625 41.71875 45.5625 \nQ 45.3125 48.734375 45.3125 54.390625 \nQ 45.3125 60.0625 41.71875 63.234375 \nQ 38.140625 66.40625 31.78125 66.40625 \nQ 25.390625 66.40625 21.84375 63.234375 \nQ 18.3125 60.0625 18.3125 54.390625 \nz\n\" id=\"DejaVuSans-56\"/>\n      </defs>\n      <g transform=\"translate(13.5625 103.57759)scale(0.1 -0.1)\">\n       <use xlink:href=\"#DejaVuSans-56\"/>\n       <use x=\"63.623047\" xlink:href=\"#DejaVuSans-48\"/>\n       <use x=\"127.246094\" xlink:href=\"#DejaVuSans-48\"/>\n       <use x=\"190.869141\" xlink:href=\"#DejaVuSans-48\"/>\n      </g>\n     </g>\n    </g>\n    <g id=\"ytick_7\">\n     <g id=\"line2d_14\">\n      <g>\n       <use style=\"stroke:#000000;stroke-width:0.8;\" x=\"46.0125\" xlink:href=\"#mf2888ffed7\" y=\"75.019468\"/>\n      </g>\n     </g>\n     <g id=\"text_14\">\n      <!-- 9000 -->\n      <defs>\n       <path d=\"M 10.984375 1.515625 \nL 10.984375 10.5 \nQ 14.703125 8.734375 18.5 7.8125 \nQ 22.3125 6.890625 25.984375 6.890625 \nQ 35.75 6.890625 40.890625 13.453125 \nQ 46.046875 20.015625 46.78125 33.40625 \nQ 43.953125 29.203125 39.59375 26.953125 \nQ 35.25 24.703125 29.984375 24.703125 \nQ 19.046875 24.703125 12.671875 31.3125 \nQ 6.296875 37.9375 6.296875 49.421875 \nQ 6.296875 60.640625 12.9375 67.421875 \nQ 19.578125 74.21875 30.609375 74.21875 \nQ 43.265625 74.21875 49.921875 64.515625 \nQ 56.59375 54.828125 56.59375 36.375 \nQ 56.59375 19.140625 48.40625 8.859375 \nQ 40.234375 -1.421875 26.421875 -1.421875 \nQ 22.703125 -1.421875 18.890625 -0.6875 \nQ 15.09375 0.046875 10.984375 1.515625 \nz\nM 30.609375 32.421875 \nQ 37.25 32.421875 41.125 36.953125 \nQ 45.015625 41.5 45.015625 49.421875 \nQ 45.015625 57.28125 41.125 61.84375 \nQ 37.25 66.40625 30.609375 66.40625 \nQ 23.96875 66.40625 20.09375 61.84375 \nQ 16.21875 57.28125 16.21875 49.421875 \nQ 16.21875 41.5 20.09375 36.953125 \nQ 23.96875 32.421875 30.609375 32.421875 \nz\n\" id=\"DejaVuSans-57\"/>\n      </defs>\n      <g transform=\"translate(13.5625 78.818687)scale(0.1 -0.1)\">\n       <use xlink:href=\"#DejaVuSans-57\"/>\n       <use x=\"63.623047\" xlink:href=\"#DejaVuSans-48\"/>\n       <use x=\"127.246094\" xlink:href=\"#DejaVuSans-48\"/>\n       <use x=\"190.869141\" xlink:href=\"#DejaVuSans-48\"/>\n      </g>\n     </g>\n    </g>\n    <g id=\"ytick_8\">\n     <g id=\"line2d_15\">\n      <g>\n       <use style=\"stroke:#000000;stroke-width:0.8;\" x=\"46.0125\" xlink:href=\"#mf2888ffed7\" y=\"50.260566\"/>\n      </g>\n     </g>\n     <g id=\"text_15\">\n      <!-- 10000 -->\n      <g transform=\"translate(7.2 54.059785)scale(0.1 -0.1)\">\n       <use xlink:href=\"#DejaVuSans-49\"/>\n       <use x=\"63.623047\" xlink:href=\"#DejaVuSans-48\"/>\n       <use x=\"127.246094\" xlink:href=\"#DejaVuSans-48\"/>\n       <use x=\"190.869141\" xlink:href=\"#DejaVuSans-48\"/>\n       <use x=\"254.492188\" xlink:href=\"#DejaVuSans-48\"/>\n      </g>\n     </g>\n    </g>\n    <g id=\"ytick_9\">\n     <g id=\"line2d_16\">\n      <g>\n       <use style=\"stroke:#000000;stroke-width:0.8;\" x=\"46.0125\" xlink:href=\"#mf2888ffed7\" y=\"25.501663\"/>\n      </g>\n     </g>\n     <g id=\"text_16\">\n      <!-- 11000 -->\n      <g transform=\"translate(7.2 29.300882)scale(0.1 -0.1)\">\n       <use xlink:href=\"#DejaVuSans-49\"/>\n       <use x=\"63.623047\" xlink:href=\"#DejaVuSans-49\"/>\n       <use x=\"127.246094\" xlink:href=\"#DejaVuSans-48\"/>\n       <use x=\"190.869141\" xlink:href=\"#DejaVuSans-48\"/>\n       <use x=\"254.492188\" xlink:href=\"#DejaVuSans-48\"/>\n      </g>\n     </g>\n    </g>\n   </g>\n   <g id=\"line2d_17\">\n    <path clip-path=\"url(#p10121ce756)\" d=\"M 61.230682 17.083636 \nL 71.72598 84.553235 \nL 82.221277 116.327305 \nL 92.716575 131.794122 \nL 103.211873 143.976109 \nL 113.707171 153.233993 \nL 124.202469 160.202402 \nL 134.697766 166.115424 \nL 145.193064 171.548411 \nL 155.688362 175.692056 \nL 166.18366 179.648214 \nL 176.678958 183.177852 \nL 187.174255 186.84191 \nL 197.669553 189.234585 \nL 208.164851 192.023632 \nL 218.660149 194.532358 \nL 229.155447 196.847853 \nL 239.650745 198.970322 \nL 250.146042 200.58521 \nL 260.64134 202.433596 \nL 271.136638 203.900889 \nL 281.631936 205.172666 \nL 292.127234 206.671545 \nL 302.622531 207.86121 \nL 313.117829 209.460361 \nL 323.613127 210.565841 \nL 334.108425 211.47914 \nL 344.603723 212.633693 \nL 355.09902 213.384016 \nL 365.594318 214.756364 \n\" style=\"fill:none;stroke:#1f77b4;stroke-linecap:square;stroke-width:1.5;\"/>\n   </g>\n   <g id=\"patch_3\">\n    <path d=\"M 46.0125 224.64 \nL 46.0125 7.2 \n\" style=\"fill:none;stroke:#000000;stroke-linecap:square;stroke-linejoin:miter;stroke-width:0.8;\"/>\n   </g>\n   <g id=\"patch_4\">\n    <path d=\"M 380.8125 224.64 \nL 380.8125 7.2 \n\" style=\"fill:none;stroke:#000000;stroke-linecap:square;stroke-linejoin:miter;stroke-width:0.8;\"/>\n   </g>\n   <g id=\"patch_5\">\n    <path d=\"M 46.0125 224.64 \nL 380.8125 224.64 \n\" style=\"fill:none;stroke:#000000;stroke-linecap:square;stroke-linejoin:miter;stroke-width:0.8;\"/>\n   </g>\n   <g id=\"patch_6\">\n    <path d=\"M 46.0125 7.2 \nL 380.8125 7.2 \n\" style=\"fill:none;stroke:#000000;stroke-linecap:square;stroke-linejoin:miter;stroke-width:0.8;\"/>\n   </g>\n  </g>\n </g>\n <defs>\n  <clipPath id=\"p10121ce756\">\n   <rect height=\"217.44\" width=\"334.8\" x=\"46.0125\" y=\"7.2\"/>\n  </clipPath>\n </defs>\n</svg>\n",
      "image/png": "[encoded data removed]"
     },
     "metadata": {
      "needs_background": "light"
     }
    }
   ],
   "source": [
    "kmeans_scree_plot(X, StandardScaler, 1, 30, 30)"
   ]
  }
 ]
}