{
 "metadata": {
  "language_info": {
   "codemirror_mode": {
    "name": "ipython",
    "version": 3
   },
   "file_extension": ".py",
   "mimetype": "text/x-python",
   "name": "python",
   "nbconvert_exporter": "python",
   "pygments_lexer": "ipython3",
   "version": 3
  },
  "orig_nbformat": 2,
  "kernelspec": {
   "name": "python_defaultSpec_1597264857744",
   "display_name": "Python 3.7.7 64-bit ('base': conda)"
  }
 },
 "nbformat": 4,
 "nbformat_minor": 2,
 "cells": [
  {
   "cell_type": "code",
   "execution_count": 1,
   "metadata": {},
   "outputs": [],
   "source": [
    "import pickle as pkl\n",
    "import pandas as pd\n",
    "\n",
    "from sklearn.feature_extraction.text import CountVectorizer \n",
    "from sklearn.feature_extraction.text import TfidfVectorizer\n",
    "\n",
    "from sklearn.decomposition import TruncatedSVD\n",
    "from sklearn.decomposition import NMF\n",
    "from sklearn.metrics.pairwise import cosine_similarity\n"
   ]
  },
  {
   "cell_type": "code",
   "execution_count": 17,
   "metadata": {},
   "outputs": [],
   "source": [
    "with open('all_lyrics_df.pkl', 'rb') as f:\n",
    "    all_lyrics_df = pkl.load(f)\n",
    "\n",
    "with open('taxis_df.pkl', 'rb') as f:\n",
    "    taxis_df = pkl.load(f)\n",
    "\n",
    "with open('prosody_df.pkl', 'rb') as f:\n",
    "    prosody_df = pkl.load(f)"
   ]
  },
  {
   "cell_type": "code",
   "execution_count": 3,
   "metadata": {},
   "outputs": [],
   "source": [
    "with open('tfidf_v1.pkl', 'rb') as f: \n",
    "    X_tfidf = pkl.load(f)"
   ]
  },
  {
   "cell_type": "code",
   "execution_count": 4,
   "metadata": {},
   "outputs": [],
   "source": [
    "\n",
    "X = all_lyrics_df.lyrics\n",
    "y = all_lyrics_df.song"
   ]
  },
  {
   "cell_type": "code",
   "execution_count": 5,
   "metadata": {},
   "outputs": [],
   "source": [
    "vectorizer = TfidfVectorizer(stop_words='english')\n",
    "X_tfidf = vectorizer.fit_transform(X)"
   ]
  },
  {
   "cell_type": "code",
   "execution_count": 6,
   "metadata": {},
   "outputs": [],
   "source": [
    "# LSA\n",
    "lsa = TruncatedSVD(3)\n",
    "song_topic = lsa.fit_transform(X_tfidf)\n"
   ]
  },
  {
   "cell_type": "code",
   "execution_count": 7,
   "metadata": {},
   "outputs": [
    {
     "output_type": "execute_result",
     "data": {
      "text/plain": "array([[ 3.13268289e-04,  2.92496530e-04,  3.74620438e-05, ...,\n         1.52458754e-05,  1.72233910e-05,  6.86466341e-05],\n       [-2.29357954e-04, -4.96095020e-04, -1.80382420e-05, ...,\n        -3.26364398e-05, -5.29796716e-05,  7.38895047e-05],\n       [-5.85078767e-04,  7.75026130e-04, -4.82829699e-05, ...,\n        -3.55822884e-05, -2.72232314e-05, -1.18669622e-04]])"
     },
     "metadata": {},
     "execution_count": 7
    }
   ],
   "source": [
    "lsa.components_"
   ]
  },
  {
   "cell_type": "code",
   "execution_count": 8,
   "metadata": {},
   "outputs": [
    {
     "output_type": "execute_result",
     "data": {
      "text/plain": "                aa    aaa  aaaa  aaaaa  aaaaaa  aaaaaaaaaaaah  \\\ncomponent_1  0.000  0.000   0.0    0.0     0.0            0.0   \ncomponent_2 -0.000 -0.000  -0.0   -0.0    -0.0           -0.0   \ncomponent_3 -0.001  0.001  -0.0   -0.0    -0.0           -0.0   \n\n             aaaaaaaaaaaassssssss  aaaaaaaalchemist  aaaaaah  aaaaaaminé  ...  \\\ncomponent_1                   0.0               0.0      0.0         0.0  ...   \ncomponent_2                  -0.0               0.0     -0.0        -0.0  ...   \ncomponent_3                  -0.0              -0.0     -0.0         0.0  ...   \n\n             ﬁghter  ﬁghtin  ﬁgure  ﬁnd  ﬁnger  ﬁshers   ﬁt  ﬁtted  ﬂirts   𝘐𝘵  \ncomponent_1     0.0     0.0    0.0  0.0    0.0     0.0  0.0    0.0    0.0  0.0  \ncomponent_2    -0.0    -0.0   -0.0 -0.0   -0.0    -0.0 -0.0   -0.0   -0.0  0.0  \ncomponent_3    -0.0    -0.0   -0.0 -0.0   -0.0    -0.0 -0.0   -0.0   -0.0 -0.0  \n\n[3 rows x 85114 columns]",
      "text/html": "<div>\n<style scoped>\n    .dataframe tbody tr th:only-of-type {\n        vertical-align: middle;\n    }\n\n    .dataframe tbody tr th {\n        vertical-align: top;\n    }\n\n    .dataframe thead th {\n        text-align: right;\n    }\n</style>\n<table border=\"1\" class=\"dataframe\">\n  <thead>\n    <tr style=\"text-align: right;\">\n      <th></th>\n      <th>aa</th>\n      <th>aaa</th>\n      <th>aaaa</th>\n      <th>aaaaa</th>\n      <th>aaaaaa</th>\n      <th>aaaaaaaaaaaah</th>\n      <th>aaaaaaaaaaaassssssss</th>\n      <th>aaaaaaaalchemist</th>\n      <th>aaaaaah</th>\n      <th>aaaaaaminé</th>\n      <th>...</th>\n      <th>ﬁghter</th>\n      <th>ﬁghtin</th>\n      <th>ﬁgure</th>\n      <th>ﬁnd</th>\n      <th>ﬁnger</th>\n      <th>ﬁshers</th>\n      <th>ﬁt</th>\n      <th>ﬁtted</th>\n      <th>ﬂirts</th>\n      <th>𝘐𝘵</th>\n    </tr>\n  </thead>\n  <tbody>\n    <tr>\n      <th>component_1</th>\n      <td>0.000</td>\n      <td>0.000</td>\n      <td>0.0</td>\n      <td>0.0</td>\n      <td>0.0</td>\n      <td>0.0</td>\n      <td>0.0</td>\n      <td>0.0</td>\n      <td>0.0</td>\n      <td>0.0</td>\n      <td>...</td>\n      <td>0.0</td>\n      <td>0.0</td>\n      <td>0.0</td>\n      <td>0.0</td>\n      <td>0.0</td>\n      <td>0.0</td>\n      <td>0.0</td>\n      <td>0.0</td>\n      <td>0.0</td>\n      <td>0.0</td>\n    </tr>\n    <tr>\n      <th>component_2</th>\n      <td>-0.000</td>\n      <td>-0.000</td>\n      <td>-0.0</td>\n      <td>-0.0</td>\n      <td>-0.0</td>\n      <td>-0.0</td>\n      <td>-0.0</td>\n      <td>0.0</td>\n      <td>-0.0</td>\n      <td>-0.0</td>\n      <td>...</td>\n      <td>-0.0</td>\n      <td>-0.0</td>\n      <td>-0.0</td>\n      <td>-0.0</td>\n      <td>-0.0</td>\n      <td>-0.0</td>\n      <td>-0.0</td>\n      <td>-0.0</td>\n      <td>-0.0</td>\n      <td>0.0</td>\n    </tr>\n    <tr>\n      <th>component_3</th>\n      <td>-0.001</td>\n      <td>0.001</td>\n      <td>-0.0</td>\n      <td>-0.0</td>\n      <td>-0.0</td>\n      <td>-0.0</td>\n      <td>-0.0</td>\n      <td>-0.0</td>\n      <td>-0.0</td>\n      <td>0.0</td>\n      <td>...</td>\n      <td>-0.0</td>\n      <td>-0.0</td>\n      <td>-0.0</td>\n      <td>-0.0</td>\n      <td>-0.0</td>\n      <td>-0.0</td>\n      <td>-0.0</td>\n      <td>-0.0</td>\n      <td>-0.0</td>\n      <td>-0.0</td>\n    </tr>\n  </tbody>\n</table>\n<p>3 rows × 85114 columns</p>\n</div>"
     },
     "metadata": {},
     "execution_count": 8
    }
   ],
   "source": [
    "topic_word = pd.DataFrame(lsa.components_.round(3),\n",
    "             index = [\"component_{}\".format(i) for i in range(1,4)],\n",
    "             columns = vectorizer.get_feature_names())\n",
    "topic_word"
   ]
  },
  {
   "cell_type": "code",
   "execution_count": 9,
   "metadata": {},
   "outputs": [],
   "source": [
    "def display_topics(model, feature_names, no_top_words, topic_names=None):\n",
    "    for ix, topic in enumerate(model.components_):\n",
    "        if not topic_names or not topic_names[ix]:\n",
    "            print(\"\\nTopic \", ix)\n",
    "        else:\n",
    "            print(\"\\nTopic: '\",topic_names[ix],\"'\")\n",
    "        print(\", \".join([feature_names[i]\n",
    "                        for i in topic.argsort()[:-no_top_words - 1:-1]]))"
   ]
  },
  {
   "cell_type": "code",
   "execution_count": 10,
   "metadata": {
    "tags": []
   },
   "outputs": [
    {
     "output_type": "stream",
     "name": "stdout",
     "text": "\nTopic  0\nim, like, yeah, nigga, dont, got, know, aint, niggas, bitch, shit, just, fuck, cause, love, baby, want, wanna, man, thats, make, em, time, money, say, let, need, oh, right, girl, tell, way, ya, gon, come, life, real, gotta, feel, yo, youre, ill, think, bitches, ass, really, hit, yall, said, bout\n\nTopic  1\nnigga, bitch, niggas, fuck, shit, bitches, money, ass, lil, aint, hoes, ayy, gang, pussy, fuckin, dick, got, em, ho, yall, big, gon, yo, bout, motherfuckin, hit, talkin, pull, fucking, young, block, shoot, glock, rich, gangsta, wit, bag, bang, real, trap, bands, huh, hoe, broke, motherfucker, cash, pop, hood, dope, gettin\n\nTopic  2\nyeah, ayy, ooh, oh, baby, bitch, uh, woo, woah, girl, huh, shawty, lil, hey, gon, love, skrrt, want, ima, diamonds, racks, ah, okay, gang, bands, yuh, bad, whoa, bag, nah, tryna, pull, ho, wrist, bitches, uhhuh, drip, pussy, wanna, need, coupe, babe, slatt, trap, know, flex, dick, alright, yah, aw\n"
    }
   ],
   "source": [
    "display_topics(lsa, vectorizer.get_feature_names(), 50)"
   ]
  },
  {
   "cell_type": "code",
   "execution_count": 11,
   "metadata": {},
   "outputs": [],
   "source": [
    "nmf = NMF(4)\n",
    "doc_topic = nmf.fit_transform(X_tfidf)"
   ]
  },
  {
   "cell_type": "code",
   "execution_count": 12,
   "metadata": {},
   "outputs": [
    {
     "output_type": "execute_result",
     "data": {
      "text/plain": "                aa    aaa  aaaa  aaaaa  aaaaaa  aaaaaaaaaaaah  \\\ncomponent_1  0.003  0.000   0.0    0.0   0.001          0.001   \ncomponent_2  0.000  0.000   0.0    0.0   0.000          0.000   \ncomponent_3  0.000  0.002   0.0    0.0   0.000          0.000   \ncomponent_4  0.000  0.003   0.0    0.0   0.000          0.001   \n\n             aaaaaaaaaaaassssssss  aaaaaaaalchemist  aaaaaah  aaaaaaminé  ...  \\\ncomponent_1                   0.0               0.0      0.0         0.0  ...   \ncomponent_2                   0.0               0.0      0.0         0.0  ...   \ncomponent_3                   0.0               0.0      0.0         0.0  ...   \ncomponent_4                   0.0               0.0      0.0         0.0  ...   \n\n             ﬁghter  ﬁghtin  ﬁgure  ﬁnd  ﬁnger  ﬁshers   ﬁt  ﬁtted  ﬂirts   𝘐𝘵  \ncomponent_1     0.0     0.0    0.0  0.0    0.0     0.0  0.0    0.0    0.0  0.0  \ncomponent_2     0.0     0.0    0.0  0.0    0.0     0.0  0.0    0.0    0.0  0.0  \ncomponent_3     0.0     0.0    0.0  0.0    0.0     0.0  0.0    0.0    0.0  0.0  \ncomponent_4     0.0     0.0    0.0  0.0    0.0     0.0  0.0    0.0    0.0  0.0  \n\n[4 rows x 85114 columns]",
      "text/html": "<div>\n<style scoped>\n    .dataframe tbody tr th:only-of-type {\n        vertical-align: middle;\n    }\n\n    .dataframe tbody tr th {\n        vertical-align: top;\n    }\n\n    .dataframe thead th {\n        text-align: right;\n    }\n</style>\n<table border=\"1\" class=\"dataframe\">\n  <thead>\n    <tr style=\"text-align: right;\">\n      <th></th>\n      <th>aa</th>\n      <th>aaa</th>\n      <th>aaaa</th>\n      <th>aaaaa</th>\n      <th>aaaaaa</th>\n      <th>aaaaaaaaaaaah</th>\n      <th>aaaaaaaaaaaassssssss</th>\n      <th>aaaaaaaalchemist</th>\n      <th>aaaaaah</th>\n      <th>aaaaaaminé</th>\n      <th>...</th>\n      <th>ﬁghter</th>\n      <th>ﬁghtin</th>\n      <th>ﬁgure</th>\n      <th>ﬁnd</th>\n      <th>ﬁnger</th>\n      <th>ﬁshers</th>\n      <th>ﬁt</th>\n      <th>ﬁtted</th>\n      <th>ﬂirts</th>\n      <th>𝘐𝘵</th>\n    </tr>\n  </thead>\n  <tbody>\n    <tr>\n      <th>component_1</th>\n      <td>0.003</td>\n      <td>0.000</td>\n      <td>0.0</td>\n      <td>0.0</td>\n      <td>0.001</td>\n      <td>0.001</td>\n      <td>0.0</td>\n      <td>0.0</td>\n      <td>0.0</td>\n      <td>0.0</td>\n      <td>...</td>\n      <td>0.0</td>\n      <td>0.0</td>\n      <td>0.0</td>\n      <td>0.0</td>\n      <td>0.0</td>\n      <td>0.0</td>\n      <td>0.0</td>\n      <td>0.0</td>\n      <td>0.0</td>\n      <td>0.0</td>\n    </tr>\n    <tr>\n      <th>component_2</th>\n      <td>0.000</td>\n      <td>0.000</td>\n      <td>0.0</td>\n      <td>0.0</td>\n      <td>0.000</td>\n      <td>0.000</td>\n      <td>0.0</td>\n      <td>0.0</td>\n      <td>0.0</td>\n      <td>0.0</td>\n      <td>...</td>\n      <td>0.0</td>\n      <td>0.0</td>\n      <td>0.0</td>\n      <td>0.0</td>\n      <td>0.0</td>\n      <td>0.0</td>\n      <td>0.0</td>\n      <td>0.0</td>\n      <td>0.0</td>\n      <td>0.0</td>\n    </tr>\n    <tr>\n      <th>component_3</th>\n      <td>0.000</td>\n      <td>0.002</td>\n      <td>0.0</td>\n      <td>0.0</td>\n      <td>0.000</td>\n      <td>0.000</td>\n      <td>0.0</td>\n      <td>0.0</td>\n      <td>0.0</td>\n      <td>0.0</td>\n      <td>...</td>\n      <td>0.0</td>\n      <td>0.0</td>\n      <td>0.0</td>\n      <td>0.0</td>\n      <td>0.0</td>\n      <td>0.0</td>\n      <td>0.0</td>\n      <td>0.0</td>\n      <td>0.0</td>\n      <td>0.0</td>\n    </tr>\n    <tr>\n      <th>component_4</th>\n      <td>0.000</td>\n      <td>0.003</td>\n      <td>0.0</td>\n      <td>0.0</td>\n      <td>0.000</td>\n      <td>0.001</td>\n      <td>0.0</td>\n      <td>0.0</td>\n      <td>0.0</td>\n      <td>0.0</td>\n      <td>...</td>\n      <td>0.0</td>\n      <td>0.0</td>\n      <td>0.0</td>\n      <td>0.0</td>\n      <td>0.0</td>\n      <td>0.0</td>\n      <td>0.0</td>\n      <td>0.0</td>\n      <td>0.0</td>\n      <td>0.0</td>\n    </tr>\n  </tbody>\n</table>\n<p>4 rows × 85114 columns</p>\n</div>"
     },
     "metadata": {},
     "execution_count": 12
    }
   ],
   "source": [
    "topic_word = pd.DataFrame(nmf.components_.round(3),\n",
    "             index = [\"component_{}\".format(i) for i in range(1,5)],\n",
    "             columns = vectorizer.get_feature_names())\n",
    "topic_word"
   ]
  },
  {
   "cell_type": "code",
   "execution_count": 13,
   "metadata": {
    "tags": []
   },
   "outputs": [
    {
     "output_type": "stream",
     "name": "stdout",
     "text": "\nTopic  0\nim, like, dont, just, got, know, aint, cause, man, life, time, thats, make, em, say, shit, way, right, ill, think, ya, feel, yo, people, gonna, gotta, youre, let, tell, day, need, better, said, wanna, mind, yall, ive, come, look, world, black, good, really, little, hard, new, live, trying, real, god\n\nTopic  1\nnigga, niggas, bitch, fuck, shit, aint, got, bitches, money, like, ass, im, gon, hoes, em, dont, lil, pussy, real, fuckin, bout, know, hit, gang, thats, yo, dick, big, yall, ho, fucking, young, want, ya, boy, ain, man, don, pull, talkin, bad, wit, wanna, run, cause, broke, gotta, ima, block, make\n\nTopic  2\nyeah, ayy, uh, ooh, im, bitch, oh, got, woo, like, huh, woah, know, hey, ima, okay, gon, tryna, shawty, ah, diamonds, lil, skrrt, racks, aint, nah, bad, dont, pull, just, big, bag, need, yuh, fuck, whoa, gang, money, bands, wanna, uhhuh, party, new, look, wrist, way, ho, gettin, drip, thats\n\nTopic  3\nlove, baby, girl, oh, know, want, dont, wanna, just, youre, let, need, feel, tell, way, come, don, time, make, night, right, ill, say, ooh, heart, got, cause, good, tonight, said, gon, really, leave, ain, things, ive, thing, away, hold, think, body, like, wont, mind, shes, babe, aint, bad, eyes, home\n"
    }
   ],
   "source": [
    "display_topics(nmf, vectorizer.get_feature_names(), 50)\n"
   ]
  },
  {
   "cell_type": "markdown",
   "metadata": {},
   "source": [
    "#### Notes: \n",
    "Topic 0: Significantly fewer interjections ('ayy', 'ooh', etc.) and the clearest diversity of vocabulary. Terms appear comparatively more abstract. Likely capturing more lyrically dense songs relative to other categories. \n",
    "\n",
    "Topic 1: The most dominated by profanity and bragadocious terms ('b*tches', 'd*ck', 'pull', 'money') as well as an outsized amount of first/second person pronouns  ('im', 'em', 'yall', 'ya', 'ima') implying combative or comparative content. \n",
    "\n",
    "Topic 2: Dominated by interjections and materialistic nouns ('diamonds', 'racks', 'bag', 'money', 'bands', 'wrist', 'drip'). Likely to be catchier, less lyrically dense songs (i.e. 'club bangers').\n",
    "\n",
    "Topic 3: Very clearly oriented around love and sex ('love', 'baby', 'girl' are the top 3 words), focusing on emotional terms ('wanna', 'feel', 'mind') and intimacy ('night', 'heart', 'hold', 'body', 'babe', 'eyes').  "
   ]
  },
  {
   "cell_type": "code",
   "execution_count": 14,
   "metadata": {},
   "outputs": [
    {
     "output_type": "execute_result",
     "data": {
      "text/plain": "                 song  Lyrical/Misc  Bragging/Combative  Money/Party  \\\n0      /songs/3546392       0.01363             0.01723      0.00556   \n1      /songs/3801456       0.01710             0.02290      0.00417   \n2      /songs/3545295       0.00576             0.02158      0.02876   \n3      /songs/4485607       0.01700             0.03912      0.00314   \n4      /songs/3801450       0.00948             0.06000      0.01103   \n...               ...           ...                 ...          ...   \n17561   /songs/347240       0.03320             0.00000      0.00938   \n17562    /songs/48980       0.04583             0.00000      0.00000   \n17563    /songs/48968       0.03609             0.00000      0.00000   \n17564    /songs/48960       0.03703             0.00000      0.00030   \n17565    /songs/48951       0.03457             0.00000      0.00000   \n\n       Romance/Sex  \n0          0.02202  \n1          0.00493  \n2          0.00000  \n3          0.00820  \n4          0.03082  \n...            ...  \n17561      0.00697  \n17562      0.01404  \n17563      0.00568  \n17564      0.00000  \n17565      0.00118  \n\n[17566 rows x 5 columns]",
      "text/html": "<div>\n<style scoped>\n    .dataframe tbody tr th:only-of-type {\n        vertical-align: middle;\n    }\n\n    .dataframe tbody tr th {\n        vertical-align: top;\n    }\n\n    .dataframe thead th {\n        text-align: right;\n    }\n</style>\n<table border=\"1\" class=\"dataframe\">\n  <thead>\n    <tr style=\"text-align: right;\">\n      <th></th>\n      <th>song</th>\n      <th>Lyrical/Misc</th>\n      <th>Bragging/Combative</th>\n      <th>Money/Party</th>\n      <th>Romance/Sex</th>\n    </tr>\n  </thead>\n  <tbody>\n    <tr>\n      <th>0</th>\n      <td>/songs/3546392</td>\n      <td>0.01363</td>\n      <td>0.01723</td>\n      <td>0.00556</td>\n      <td>0.02202</td>\n    </tr>\n    <tr>\n      <th>1</th>\n      <td>/songs/3801456</td>\n      <td>0.01710</td>\n      <td>0.02290</td>\n      <td>0.00417</td>\n      <td>0.00493</td>\n    </tr>\n    <tr>\n      <th>2</th>\n      <td>/songs/3545295</td>\n      <td>0.00576</td>\n      <td>0.02158</td>\n      <td>0.02876</td>\n      <td>0.00000</td>\n    </tr>\n    <tr>\n      <th>3</th>\n      <td>/songs/4485607</td>\n      <td>0.01700</td>\n      <td>0.03912</td>\n      <td>0.00314</td>\n      <td>0.00820</td>\n    </tr>\n    <tr>\n      <th>4</th>\n      <td>/songs/3801450</td>\n      <td>0.00948</td>\n      <td>0.06000</td>\n      <td>0.01103</td>\n      <td>0.03082</td>\n    </tr>\n    <tr>\n      <th>...</th>\n      <td>...</td>\n      <td>...</td>\n      <td>...</td>\n      <td>...</td>\n      <td>...</td>\n    </tr>\n    <tr>\n      <th>17561</th>\n      <td>/songs/347240</td>\n      <td>0.03320</td>\n      <td>0.00000</td>\n      <td>0.00938</td>\n      <td>0.00697</td>\n    </tr>\n    <tr>\n      <th>17562</th>\n      <td>/songs/48980</td>\n      <td>0.04583</td>\n      <td>0.00000</td>\n      <td>0.00000</td>\n      <td>0.01404</td>\n    </tr>\n    <tr>\n      <th>17563</th>\n      <td>/songs/48968</td>\n      <td>0.03609</td>\n      <td>0.00000</td>\n      <td>0.00000</td>\n      <td>0.00568</td>\n    </tr>\n    <tr>\n      <th>17564</th>\n      <td>/songs/48960</td>\n      <td>0.03703</td>\n      <td>0.00000</td>\n      <td>0.00030</td>\n      <td>0.00000</td>\n    </tr>\n    <tr>\n      <th>17565</th>\n      <td>/songs/48951</td>\n      <td>0.03457</td>\n      <td>0.00000</td>\n      <td>0.00000</td>\n      <td>0.00118</td>\n    </tr>\n  </tbody>\n</table>\n<p>17566 rows × 5 columns</p>\n</div>"
     },
     "metadata": {},
     "execution_count": 14
    }
   ],
   "source": [
    "H = pd.DataFrame(doc_topic.round(5),\n",
    "             index = y,\n",
    "             columns = ['Lyrical/Misc', 'Bragging/Combative', 'Money/Party', 'Romance/Sex'])\n",
    "H = H.reset_index()\n",
    "H "
   ]
  },
  {
   "cell_type": "code",
   "execution_count": 15,
   "metadata": {},
   "outputs": [],
   "source": [
    "artist_mean_topic = all_lyrics_df[['artist', 'song']].merge(H).groupby('artist').mean()"
   ]
  },
  {
   "cell_type": "markdown",
   "metadata": {},
   "source": [
    "#### Notable Artists \n",
    "\n",
    "*Lyrical/Misc*:\n",
    "Eminem, Black Thought, Grandmaster Flash, Ab-Soul, Fort Minor, Logic\n",
    "\n",
    "*Bragging/Combative*: \n",
    "Meek Mill, Jadakiss, Pusha T, Bobby Shmurda, Soulja Boy, Too Short\n",
    "\n",
    "*Money/Party*:\n",
    "Young Thug, Lil Uzi Vert, Nicki Minaj, Lil Pump, Playboi Carti, DaBaby \n",
    "\n",
    "*Romance/Sex*:The Weeknd, Usher, Chris Brown, R. Kelly, Trey Songz\n",
    "\n"
   ]
  },
  {
   "cell_type": "code",
   "execution_count": 16,
   "metadata": {},
   "outputs": [
    {
     "output_type": "execute_result",
     "data": {
      "text/plain": "                    Lyrical/Misc  Bragging/Combative  Money/Party  Romance/Sex\nartist                                                                        \nThe-Dream               0.010200            0.019890     0.023680     0.081300\nTaio Cruz               0.015455            0.000000     0.000960     0.073485\nMo B. Dick              0.025330            0.000000     0.010100     0.070920\nJennifer Lopez          0.023398            0.002757     0.019650     0.070156\nJohntá Austin           0.013590            0.000000     0.000000     0.067080\nJ. Valentine            0.024882            0.004070     0.019495     0.065770\nAloe Blacc              0.000725            0.000000     0.063280     0.065115\nBenny Blanco            0.022720            0.000000     0.024930     0.064930\nCurtiss King            0.016532            0.011083     0.000013     0.064118\nFocus...                0.006962            0.005955     0.042385     0.062872\nThe Weeknd              0.009018            0.006061     0.023968     0.062617\nA+                      0.009018            0.006061     0.023968     0.062617\nTablo                   0.009450            0.000310     0.017600     0.060220\nUsher                   0.018077            0.001141     0.015112     0.059356\nSleepy Brown            0.003253            0.000837     0.009030     0.057590\nStitches                0.027250            0.000000     0.000000     0.057550\nDJ Premier              0.021917            0.000276     0.014152     0.053385\nBJ the Chicago Kid      0.010823            0.004880     0.007557     0.052480\nAnthony Parker          0.029152            0.003753     0.020653     0.052345\nDeuce                   0.012928            0.011560     0.036680     0.051697\nChris Brown             0.012928            0.011560     0.036680     0.051697\nMurs                    0.018438            0.000141     0.012051     0.050800\nVerse Simmonds          0.015731            0.008958     0.011669     0.050392\nMariah Carey            0.019009            0.001441     0.009131     0.050163\nDavid Rush              0.021495            0.004185     0.000000     0.049855\nREASON                  0.023432            0.000000     0.008022     0.049808\nMC Trouble              0.034795            0.000000     0.004380     0.049660\nFergie                  0.019925            0.001665     0.015983     0.049548\nOmarion                 0.014382            0.010553     0.018504     0.049176\nKnero                   0.036030            0.000000     0.000000     0.049150\nR. Kelly                0.015658            0.002227     0.010027     0.049043\nPARTYNEXTDOOR           0.010384            0.012717     0.023561     0.048723\nButch Cassidy           0.014815            0.001035     0.004240     0.048570\nYoung Noble             0.038920            0.008905     0.000000     0.048300\nDoug E. Fresh           0.028825            0.000000     0.000740     0.048185\nBas                     0.011681            0.000501     0.001550     0.047941\nFatboi                  0.016230            0.014717     0.040026     0.047898\nTrey Songz              0.016997            0.009022     0.014713     0.047683\nLauryn Hill             0.015279            0.001192     0.002023     0.046217\nT.I.                    0.023385            0.035491     0.025090     0.044844\nBryson Tiller           0.023385            0.035491     0.025090     0.044844\nOlivia                  0.017342            0.000154     0.005664     0.044740\nTreach                  0.019180            0.000000     0.058600     0.044710\nMaejor Ali              0.020140            0.003498     0.007314     0.043946\nIceJJFish               0.020921            0.017308     0.010906     0.043943\nWizkid                  0.017140            0.000000     0.007210     0.043800\nVal Young               0.007717            0.000666     0.000873     0.043714\nBaeza                   0.030285            0.015080     0.001460     0.042980\nBobby Brackins          0.009620            0.012053     0.009029     0.042899\nGAWVI                   0.016168            0.000230     0.028312     0.042854\nSyd Tha Kyd             0.015752            0.003302     0.039146     0.042580",
      "text/html": "<div>\n<style scoped>\n    .dataframe tbody tr th:only-of-type {\n        vertical-align: middle;\n    }\n\n    .dataframe tbody tr th {\n        vertical-align: top;\n    }\n\n    .dataframe thead th {\n        text-align: right;\n    }\n</style>\n<table border=\"1\" class=\"dataframe\">\n  <thead>\n    <tr style=\"text-align: right;\">\n      <th></th>\n      <th>Lyrical/Misc</th>\n      <th>Bragging/Combative</th>\n      <th>Money/Party</th>\n      <th>Romance/Sex</th>\n    </tr>\n    <tr>\n      <th>artist</th>\n      <th></th>\n      <th></th>\n      <th></th>\n      <th></th>\n    </tr>\n  </thead>\n  <tbody>\n    <tr>\n      <th>The-Dream</th>\n      <td>0.010200</td>\n      <td>0.019890</td>\n      <td>0.023680</td>\n      <td>0.081300</td>\n    </tr>\n    <tr>\n      <th>Taio Cruz</th>\n      <td>0.015455</td>\n      <td>0.000000</td>\n      <td>0.000960</td>\n      <td>0.073485</td>\n    </tr>\n    <tr>\n      <th>Mo B. Dick</th>\n      <td>0.025330</td>\n      <td>0.000000</td>\n      <td>0.010100</td>\n      <td>0.070920</td>\n    </tr>\n    <tr>\n      <th>Jennifer Lopez</th>\n      <td>0.023398</td>\n      <td>0.002757</td>\n      <td>0.019650</td>\n      <td>0.070156</td>\n    </tr>\n    <tr>\n      <th>Johntá Austin</th>\n      <td>0.013590</td>\n      <td>0.000000</td>\n      <td>0.000000</td>\n      <td>0.067080</td>\n    </tr>\n    <tr>\n      <th>J. Valentine</th>\n      <td>0.024882</td>\n      <td>0.004070</td>\n      <td>0.019495</td>\n      <td>0.065770</td>\n    </tr>\n    <tr>\n      <th>Aloe Blacc</th>\n      <td>0.000725</td>\n      <td>0.000000</td>\n      <td>0.063280</td>\n      <td>0.065115</td>\n    </tr>\n    <tr>\n      <th>Benny Blanco</th>\n      <td>0.022720</td>\n      <td>0.000000</td>\n      <td>0.024930</td>\n      <td>0.064930</td>\n    </tr>\n    <tr>\n      <th>Curtiss King</th>\n      <td>0.016532</td>\n      <td>0.011083</td>\n      <td>0.000013</td>\n      <td>0.064118</td>\n    </tr>\n    <tr>\n      <th>Focus...</th>\n      <td>0.006962</td>\n      <td>0.005955</td>\n      <td>0.042385</td>\n      <td>0.062872</td>\n    </tr>\n    <tr>\n      <th>The Weeknd</th>\n      <td>0.009018</td>\n      <td>0.006061</td>\n      <td>0.023968</td>\n      <td>0.062617</td>\n    </tr>\n    <tr>\n      <th>A+</th>\n      <td>0.009018</td>\n      <td>0.006061</td>\n      <td>0.023968</td>\n      <td>0.062617</td>\n    </tr>\n    <tr>\n      <th>Tablo</th>\n      <td>0.009450</td>\n      <td>0.000310</td>\n      <td>0.017600</td>\n      <td>0.060220</td>\n    </tr>\n    <tr>\n      <th>Usher</th>\n      <td>0.018077</td>\n      <td>0.001141</td>\n      <td>0.015112</td>\n      <td>0.059356</td>\n    </tr>\n    <tr>\n      <th>Sleepy Brown</th>\n      <td>0.003253</td>\n      <td>0.000837</td>\n      <td>0.009030</td>\n      <td>0.057590</td>\n    </tr>\n    <tr>\n      <th>Stitches</th>\n      <td>0.027250</td>\n      <td>0.000000</td>\n      <td>0.000000</td>\n      <td>0.057550</td>\n    </tr>\n    <tr>\n      <th>DJ Premier</th>\n      <td>0.021917</td>\n      <td>0.000276</td>\n      <td>0.014152</td>\n      <td>0.053385</td>\n    </tr>\n    <tr>\n      <th>BJ the Chicago Kid</th>\n      <td>0.010823</td>\n      <td>0.004880</td>\n      <td>0.007557</td>\n      <td>0.052480</td>\n    </tr>\n    <tr>\n      <th>Anthony Parker</th>\n      <td>0.029152</td>\n      <td>0.003753</td>\n      <td>0.020653</td>\n      <td>0.052345</td>\n    </tr>\n    <tr>\n      <th>Deuce</th>\n      <td>0.012928</td>\n      <td>0.011560</td>\n      <td>0.036680</td>\n      <td>0.051697</td>\n    </tr>\n    <tr>\n      <th>Chris Brown</th>\n      <td>0.012928</td>\n      <td>0.011560</td>\n      <td>0.036680</td>\n      <td>0.051697</td>\n    </tr>\n    <tr>\n      <th>Murs</th>\n      <td>0.018438</td>\n      <td>0.000141</td>\n      <td>0.012051</td>\n      <td>0.050800</td>\n    </tr>\n    <tr>\n      <th>Verse Simmonds</th>\n      <td>0.015731</td>\n      <td>0.008958</td>\n      <td>0.011669</td>\n      <td>0.050392</td>\n    </tr>\n    <tr>\n      <th>Mariah Carey</th>\n      <td>0.019009</td>\n      <td>0.001441</td>\n      <td>0.009131</td>\n      <td>0.050163</td>\n    </tr>\n    <tr>\n      <th>David Rush</th>\n      <td>0.021495</td>\n      <td>0.004185</td>\n      <td>0.000000</td>\n      <td>0.049855</td>\n    </tr>\n    <tr>\n      <th>REASON</th>\n      <td>0.023432</td>\n      <td>0.000000</td>\n      <td>0.008022</td>\n      <td>0.049808</td>\n    </tr>\n    <tr>\n      <th>MC Trouble</th>\n      <td>0.034795</td>\n      <td>0.000000</td>\n      <td>0.004380</td>\n      <td>0.049660</td>\n    </tr>\n    <tr>\n      <th>Fergie</th>\n      <td>0.019925</td>\n      <td>0.001665</td>\n      <td>0.015983</td>\n      <td>0.049548</td>\n    </tr>\n    <tr>\n      <th>Omarion</th>\n      <td>0.014382</td>\n      <td>0.010553</td>\n      <td>0.018504</td>\n      <td>0.049176</td>\n    </tr>\n    <tr>\n      <th>Knero</th>\n      <td>0.036030</td>\n      <td>0.000000</td>\n      <td>0.000000</td>\n      <td>0.049150</td>\n    </tr>\n    <tr>\n      <th>R. Kelly</th>\n      <td>0.015658</td>\n      <td>0.002227</td>\n      <td>0.010027</td>\n      <td>0.049043</td>\n    </tr>\n    <tr>\n      <th>PARTYNEXTDOOR</th>\n      <td>0.010384</td>\n      <td>0.012717</td>\n      <td>0.023561</td>\n      <td>0.048723</td>\n    </tr>\n    <tr>\n      <th>Butch Cassidy</th>\n      <td>0.014815</td>\n      <td>0.001035</td>\n      <td>0.004240</td>\n      <td>0.048570</td>\n    </tr>\n    <tr>\n      <th>Young Noble</th>\n      <td>0.038920</td>\n      <td>0.008905</td>\n      <td>0.000000</td>\n      <td>0.048300</td>\n    </tr>\n    <tr>\n      <th>Doug E. Fresh</th>\n      <td>0.028825</td>\n      <td>0.000000</td>\n      <td>0.000740</td>\n      <td>0.048185</td>\n    </tr>\n    <tr>\n      <th>Bas</th>\n      <td>0.011681</td>\n      <td>0.000501</td>\n      <td>0.001550</td>\n      <td>0.047941</td>\n    </tr>\n    <tr>\n      <th>Fatboi</th>\n      <td>0.016230</td>\n      <td>0.014717</td>\n      <td>0.040026</td>\n      <td>0.047898</td>\n    </tr>\n    <tr>\n      <th>Trey Songz</th>\n      <td>0.016997</td>\n      <td>0.009022</td>\n      <td>0.014713</td>\n      <td>0.047683</td>\n    </tr>\n    <tr>\n      <th>Lauryn Hill</th>\n      <td>0.015279</td>\n      <td>0.001192</td>\n      <td>0.002023</td>\n      <td>0.046217</td>\n    </tr>\n    <tr>\n      <th>T.I.</th>\n      <td>0.023385</td>\n      <td>0.035491</td>\n      <td>0.025090</td>\n      <td>0.044844</td>\n    </tr>\n    <tr>\n      <th>Bryson Tiller</th>\n      <td>0.023385</td>\n      <td>0.035491</td>\n      <td>0.025090</td>\n      <td>0.044844</td>\n    </tr>\n    <tr>\n      <th>Olivia</th>\n      <td>0.017342</td>\n      <td>0.000154</td>\n      <td>0.005664</td>\n      <td>0.044740</td>\n    </tr>\n    <tr>\n      <th>Treach</th>\n      <td>0.019180</td>\n      <td>0.000000</td>\n      <td>0.058600</td>\n      <td>0.044710</td>\n    </tr>\n    <tr>\n      <th>Maejor Ali</th>\n      <td>0.020140</td>\n      <td>0.003498</td>\n      <td>0.007314</td>\n      <td>0.043946</td>\n    </tr>\n    <tr>\n      <th>IceJJFish</th>\n      <td>0.020921</td>\n      <td>0.017308</td>\n      <td>0.010906</td>\n      <td>0.043943</td>\n    </tr>\n    <tr>\n      <th>Wizkid</th>\n      <td>0.017140</td>\n      <td>0.000000</td>\n      <td>0.007210</td>\n      <td>0.043800</td>\n    </tr>\n    <tr>\n      <th>Val Young</th>\n      <td>0.007717</td>\n      <td>0.000666</td>\n      <td>0.000873</td>\n      <td>0.043714</td>\n    </tr>\n    <tr>\n      <th>Baeza</th>\n      <td>0.030285</td>\n      <td>0.015080</td>\n      <td>0.001460</td>\n      <td>0.042980</td>\n    </tr>\n    <tr>\n      <th>Bobby Brackins</th>\n      <td>0.009620</td>\n      <td>0.012053</td>\n      <td>0.009029</td>\n      <td>0.042899</td>\n    </tr>\n    <tr>\n      <th>GAWVI</th>\n      <td>0.016168</td>\n      <td>0.000230</td>\n      <td>0.028312</td>\n      <td>0.042854</td>\n    </tr>\n    <tr>\n      <th>Syd Tha Kyd</th>\n      <td>0.015752</td>\n      <td>0.003302</td>\n      <td>0.039146</td>\n      <td>0.042580</td>\n    </tr>\n  </tbody>\n</table>\n</div>"
     },
     "metadata": {},
     "execution_count": 16
    }
   ],
   "source": [
    "artist_mean_topic.sort_values('Romance/Sex', ascending=False).head(51)"
   ]
  },
  {
   "cell_type": "code",
   "execution_count": 25,
   "metadata": {},
   "outputs": [
    {
     "output_type": "execute_result",
     "data": {
      "text/plain": "                lines        words  words_per_line  unique_words  \\\nartist                                                             \n03 Greedo   76.312500  2684.312500       35.125816    185.375000   \n070 Shake   70.352941  2122.294118       30.507007    137.470588   \n2 Chainz    68.333333  2240.666667       32.916186    194.111111   \n2 Pistols   78.545455  2203.181818       28.376804    178.272727   \n21 Savage   81.904762  2764.666667       33.424155    189.095238   \n...               ...          ...             ...           ...   \nZebra Katz  67.666667  1737.833333       25.122420    132.944444   \nZelooperz   57.636364  1636.636364       29.884914    151.060606   \nZion I      60.300000  2030.800000       34.300381    210.200000   \nbbno$       53.000000  1655.666667       31.152735     92.333333   \nwill.i.am   77.200000  2503.800000       33.323155    163.733333   \n\n            unique_word_rate  \nartist                        \n03 Greedo           0.070810  \n070 Shake           0.071274  \n2 Chainz            0.090778  \n2 Pistols           0.085574  \n21 Savage           0.070440  \n...                      ...  \nZebra Katz          0.087163  \nZelooperz           0.095839  \nZion I              0.104322  \nbbno$               0.055000  \nwill.i.am           0.067369  \n\n[1260 rows x 5 columns]",
      "text/html": "<div>\n<style scoped>\n    .dataframe tbody tr th:only-of-type {\n        vertical-align: middle;\n    }\n\n    .dataframe tbody tr th {\n        vertical-align: top;\n    }\n\n    .dataframe thead th {\n        text-align: right;\n    }\n</style>\n<table border=\"1\" class=\"dataframe\">\n  <thead>\n    <tr style=\"text-align: right;\">\n      <th></th>\n      <th>lines</th>\n      <th>words</th>\n      <th>words_per_line</th>\n      <th>unique_words</th>\n      <th>unique_word_rate</th>\n    </tr>\n    <tr>\n      <th>artist</th>\n      <th></th>\n      <th></th>\n      <th></th>\n      <th></th>\n      <th></th>\n    </tr>\n  </thead>\n  <tbody>\n    <tr>\n      <th>03 Greedo</th>\n      <td>76.312500</td>\n      <td>2684.312500</td>\n      <td>35.125816</td>\n      <td>185.375000</td>\n      <td>0.070810</td>\n    </tr>\n    <tr>\n      <th>070 Shake</th>\n      <td>70.352941</td>\n      <td>2122.294118</td>\n      <td>30.507007</td>\n      <td>137.470588</td>\n      <td>0.071274</td>\n    </tr>\n    <tr>\n      <th>2 Chainz</th>\n      <td>68.333333</td>\n      <td>2240.666667</td>\n      <td>32.916186</td>\n      <td>194.111111</td>\n      <td>0.090778</td>\n    </tr>\n    <tr>\n      <th>2 Pistols</th>\n      <td>78.545455</td>\n      <td>2203.181818</td>\n      <td>28.376804</td>\n      <td>178.272727</td>\n      <td>0.085574</td>\n    </tr>\n    <tr>\n      <th>21 Savage</th>\n      <td>81.904762</td>\n      <td>2764.666667</td>\n      <td>33.424155</td>\n      <td>189.095238</td>\n      <td>0.070440</td>\n    </tr>\n    <tr>\n      <th>...</th>\n      <td>...</td>\n      <td>...</td>\n      <td>...</td>\n      <td>...</td>\n      <td>...</td>\n    </tr>\n    <tr>\n      <th>Zebra Katz</th>\n      <td>67.666667</td>\n      <td>1737.833333</td>\n      <td>25.122420</td>\n      <td>132.944444</td>\n      <td>0.087163</td>\n    </tr>\n    <tr>\n      <th>Zelooperz</th>\n      <td>57.636364</td>\n      <td>1636.636364</td>\n      <td>29.884914</td>\n      <td>151.060606</td>\n      <td>0.095839</td>\n    </tr>\n    <tr>\n      <th>Zion I</th>\n      <td>60.300000</td>\n      <td>2030.800000</td>\n      <td>34.300381</td>\n      <td>210.200000</td>\n      <td>0.104322</td>\n    </tr>\n    <tr>\n      <th>bbno$</th>\n      <td>53.000000</td>\n      <td>1655.666667</td>\n      <td>31.152735</td>\n      <td>92.333333</td>\n      <td>0.055000</td>\n    </tr>\n    <tr>\n      <th>will.i.am</th>\n      <td>77.200000</td>\n      <td>2503.800000</td>\n      <td>33.323155</td>\n      <td>163.733333</td>\n      <td>0.067369</td>\n    </tr>\n  </tbody>\n</table>\n<p>1260 rows × 5 columns</p>\n</div>"
     },
     "metadata": {},
     "execution_count": 25
    }
   ],
   "source": [
    "artist_mean_taxis = taxis_df.groupby('artist').mean()\n",
    "artist_mean_taxis"
   ]
  },
  {
   "cell_type": "code",
   "execution_count": 26,
   "metadata": {},
   "outputs": [
    {
     "output_type": "execute_result",
     "data": {
      "text/plain": "             syllables  syllables_per_line  syllables_per_word\nartist                                                        \n03 Greedo   701.687500            9.211347            0.261876\n070 Shake   561.941176            8.091570            0.264949\n2 Chainz    590.000000            8.641371            0.262462\n2 Pistols   562.272727            7.243027            0.255224\n21 Savage   706.047619            8.484020            0.253769\n...                ...                 ...                 ...\nZebra Katz  451.888889            6.521429            0.259716\nZelooperz   422.696970            7.746176            0.258715\nZion I      532.600000            8.986945            0.262015\nbbno$       456.000000            8.575163            0.275106\nwill.i.am   652.666667            8.664136            0.259974\n\n[1260 rows x 3 columns]",
      "text/html": "<div>\n<style scoped>\n    .dataframe tbody tr th:only-of-type {\n        vertical-align: middle;\n    }\n\n    .dataframe tbody tr th {\n        vertical-align: top;\n    }\n\n    .dataframe thead th {\n        text-align: right;\n    }\n</style>\n<table border=\"1\" class=\"dataframe\">\n  <thead>\n    <tr style=\"text-align: right;\">\n      <th></th>\n      <th>syllables</th>\n      <th>syllables_per_line</th>\n      <th>syllables_per_word</th>\n    </tr>\n    <tr>\n      <th>artist</th>\n      <th></th>\n      <th></th>\n      <th></th>\n    </tr>\n  </thead>\n  <tbody>\n    <tr>\n      <th>03 Greedo</th>\n      <td>701.687500</td>\n      <td>9.211347</td>\n      <td>0.261876</td>\n    </tr>\n    <tr>\n      <th>070 Shake</th>\n      <td>561.941176</td>\n      <td>8.091570</td>\n      <td>0.264949</td>\n    </tr>\n    <tr>\n      <th>2 Chainz</th>\n      <td>590.000000</td>\n      <td>8.641371</td>\n      <td>0.262462</td>\n    </tr>\n    <tr>\n      <th>2 Pistols</th>\n      <td>562.272727</td>\n      <td>7.243027</td>\n      <td>0.255224</td>\n    </tr>\n    <tr>\n      <th>21 Savage</th>\n      <td>706.047619</td>\n      <td>8.484020</td>\n      <td>0.253769</td>\n    </tr>\n    <tr>\n      <th>...</th>\n      <td>...</td>\n      <td>...</td>\n      <td>...</td>\n    </tr>\n    <tr>\n      <th>Zebra Katz</th>\n      <td>451.888889</td>\n      <td>6.521429</td>\n      <td>0.259716</td>\n    </tr>\n    <tr>\n      <th>Zelooperz</th>\n      <td>422.696970</td>\n      <td>7.746176</td>\n      <td>0.258715</td>\n    </tr>\n    <tr>\n      <th>Zion I</th>\n      <td>532.600000</td>\n      <td>8.986945</td>\n      <td>0.262015</td>\n    </tr>\n    <tr>\n      <th>bbno$</th>\n      <td>456.000000</td>\n      <td>8.575163</td>\n      <td>0.275106</td>\n    </tr>\n    <tr>\n      <th>will.i.am</th>\n      <td>652.666667</td>\n      <td>8.664136</td>\n      <td>0.259974</td>\n    </tr>\n  </tbody>\n</table>\n<p>1260 rows × 3 columns</p>\n</div>"
     },
     "metadata": {},
     "execution_count": 26
    }
   ],
   "source": [
    "artist_mean_prosody = prosody_df.groupby('artist').mean()\n",
    "artist_mean_prosody"
   ]
  },
  {
   "cell_type": "code",
   "execution_count": 23,
   "metadata": {},
   "outputs": [
    {
     "output_type": "execute_result",
     "data": {
      "text/plain": "            Lyrical/Misc  Bragging/Combative  Money/Party  Romance/Sex\nartist                                                                \n03 Greedo       0.012388            0.040464     0.021360     0.011842\n070 Shake       0.015179            0.001804     0.021861     0.036665\n2 Chainz        0.018329            0.023071     0.021967     0.006407\n2 Pistols       0.013755            0.030431     0.018532     0.021855\n21 Savage       0.007464            0.046448     0.046098     0.008801\n...                  ...                 ...          ...          ...\nZebra Katz      0.025077            0.012421     0.018921     0.016527\nZelooperz       0.018682            0.037817     0.003213     0.006282\nZion I          0.031290            0.000425     0.003131     0.006091\nbbno$           0.009183            0.010923     0.004047     0.009563\nwill.i.am       0.004096            0.019755     0.047252     0.040928\n\n[1260 rows x 4 columns]",
      "text/html": "<div>\n<style scoped>\n    .dataframe tbody tr th:only-of-type {\n        vertical-align: middle;\n    }\n\n    .dataframe tbody tr th {\n        vertical-align: top;\n    }\n\n    .dataframe thead th {\n        text-align: right;\n    }\n</style>\n<table border=\"1\" class=\"dataframe\">\n  <thead>\n    <tr style=\"text-align: right;\">\n      <th></th>\n      <th>Lyrical/Misc</th>\n      <th>Bragging/Combative</th>\n      <th>Money/Party</th>\n      <th>Romance/Sex</th>\n    </tr>\n    <tr>\n      <th>artist</th>\n      <th></th>\n      <th></th>\n      <th></th>\n      <th></th>\n    </tr>\n  </thead>\n  <tbody>\n    <tr>\n      <th>03 Greedo</th>\n      <td>0.012388</td>\n      <td>0.040464</td>\n      <td>0.021360</td>\n      <td>0.011842</td>\n    </tr>\n    <tr>\n      <th>070 Shake</th>\n      <td>0.015179</td>\n      <td>0.001804</td>\n      <td>0.021861</td>\n      <td>0.036665</td>\n    </tr>\n    <tr>\n      <th>2 Chainz</th>\n      <td>0.018329</td>\n      <td>0.023071</td>\n      <td>0.021967</td>\n      <td>0.006407</td>\n    </tr>\n    <tr>\n      <th>2 Pistols</th>\n      <td>0.013755</td>\n      <td>0.030431</td>\n      <td>0.018532</td>\n      <td>0.021855</td>\n    </tr>\n    <tr>\n      <th>21 Savage</th>\n      <td>0.007464</td>\n      <td>0.046448</td>\n      <td>0.046098</td>\n      <td>0.008801</td>\n    </tr>\n    <tr>\n      <th>...</th>\n      <td>...</td>\n      <td>...</td>\n      <td>...</td>\n      <td>...</td>\n    </tr>\n    <tr>\n      <th>Zebra Katz</th>\n      <td>0.025077</td>\n      <td>0.012421</td>\n      <td>0.018921</td>\n      <td>0.016527</td>\n    </tr>\n    <tr>\n      <th>Zelooperz</th>\n      <td>0.018682</td>\n      <td>0.037817</td>\n      <td>0.003213</td>\n      <td>0.006282</td>\n    </tr>\n    <tr>\n      <th>Zion I</th>\n      <td>0.031290</td>\n      <td>0.000425</td>\n      <td>0.003131</td>\n      <td>0.006091</td>\n    </tr>\n    <tr>\n      <th>bbno$</th>\n      <td>0.009183</td>\n      <td>0.010923</td>\n      <td>0.004047</td>\n      <td>0.009563</td>\n    </tr>\n    <tr>\n      <th>will.i.am</th>\n      <td>0.004096</td>\n      <td>0.019755</td>\n      <td>0.047252</td>\n      <td>0.040928</td>\n    </tr>\n  </tbody>\n</table>\n<p>1260 rows × 4 columns</p>\n</div>"
     },
     "metadata": {},
     "execution_count": 23
    }
   ],
   "source": [
    "artist_mean_topic"
   ]
  },
  {
   "cell_type": "code",
   "execution_count": 29,
   "metadata": {},
   "outputs": [
    {
     "output_type": "execute_result",
     "data": {
      "text/plain": "            Lyrical/Misc  Bragging/Combative  Money/Party  Romance/Sex  \\\nartist                                                                   \n03 Greedo       0.012388            0.040464     0.021360     0.011842   \n070 Shake       0.015179            0.001804     0.021861     0.036665   \n2 Chainz        0.018329            0.023071     0.021967     0.006407   \n2 Pistols       0.013755            0.030431     0.018532     0.021855   \n21 Savage       0.007464            0.046448     0.046098     0.008801   \n...                  ...                 ...          ...          ...   \nZebra Katz      0.025077            0.012421     0.018921     0.016527   \nZelooperz       0.018682            0.037817     0.003213     0.006282   \nZion I          0.031290            0.000425     0.003131     0.006091   \nbbno$           0.009183            0.010923     0.004047     0.009563   \nwill.i.am       0.004096            0.019755     0.047252     0.040928   \n\n                lines        words  words_per_line  unique_words  \\\nartist                                                             \n03 Greedo   76.312500  2684.312500       35.125816    185.375000   \n070 Shake   70.352941  2122.294118       30.507007    137.470588   \n2 Chainz    68.333333  2240.666667       32.916186    194.111111   \n2 Pistols   78.545455  2203.181818       28.376804    178.272727   \n21 Savage   81.904762  2764.666667       33.424155    189.095238   \n...               ...          ...             ...           ...   \nZebra Katz  67.666667  1737.833333       25.122420    132.944444   \nZelooperz   57.636364  1636.636364       29.884914    151.060606   \nZion I      60.300000  2030.800000       34.300381    210.200000   \nbbno$       53.000000  1655.666667       31.152735     92.333333   \nwill.i.am   77.200000  2503.800000       33.323155    163.733333   \n\n            unique_word_rate   syllables  syllables_per_line  \\\nartist                                                         \n03 Greedo           0.070810  701.687500            9.211347   \n070 Shake           0.071274  561.941176            8.091570   \n2 Chainz            0.090778  590.000000            8.641371   \n2 Pistols           0.085574  562.272727            7.243027   \n21 Savage           0.070440  706.047619            8.484020   \n...                      ...         ...                 ...   \nZebra Katz          0.087163  451.888889            6.521429   \nZelooperz           0.095839  422.696970            7.746176   \nZion I              0.104322  532.600000            8.986945   \nbbno$               0.055000  456.000000            8.575163   \nwill.i.am           0.067369  652.666667            8.664136   \n\n            syllables_per_word  \nartist                          \n03 Greedo             0.261876  \n070 Shake             0.264949  \n2 Chainz              0.262462  \n2 Pistols             0.255224  \n21 Savage             0.253769  \n...                        ...  \nZebra Katz            0.259716  \nZelooperz             0.258715  \nZion I                0.262015  \nbbno$                 0.275106  \nwill.i.am             0.259974  \n\n[1260 rows x 12 columns]",
      "text/html": "<div>\n<style scoped>\n    .dataframe tbody tr th:only-of-type {\n        vertical-align: middle;\n    }\n\n    .dataframe tbody tr th {\n        vertical-align: top;\n    }\n\n    .dataframe thead th {\n        text-align: right;\n    }\n</style>\n<table border=\"1\" class=\"dataframe\">\n  <thead>\n    <tr style=\"text-align: right;\">\n      <th></th>\n      <th>Lyrical/Misc</th>\n      <th>Bragging/Combative</th>\n      <th>Money/Party</th>\n      <th>Romance/Sex</th>\n      <th>lines</th>\n      <th>words</th>\n      <th>words_per_line</th>\n      <th>unique_words</th>\n      <th>unique_word_rate</th>\n      <th>syllables</th>\n      <th>syllables_per_line</th>\n      <th>syllables_per_word</th>\n    </tr>\n    <tr>\n      <th>artist</th>\n      <th></th>\n      <th></th>\n      <th></th>\n      <th></th>\n      <th></th>\n      <th></th>\n      <th></th>\n      <th></th>\n      <th></th>\n      <th></th>\n      <th></th>\n      <th></th>\n    </tr>\n  </thead>\n  <tbody>\n    <tr>\n      <th>03 Greedo</th>\n      <td>0.012388</td>\n      <td>0.040464</td>\n      <td>0.021360</td>\n      <td>0.011842</td>\n      <td>76.312500</td>\n      <td>2684.312500</td>\n      <td>35.125816</td>\n      <td>185.375000</td>\n      <td>0.070810</td>\n      <td>701.687500</td>\n      <td>9.211347</td>\n      <td>0.261876</td>\n    </tr>\n    <tr>\n      <th>070 Shake</th>\n      <td>0.015179</td>\n      <td>0.001804</td>\n      <td>0.021861</td>\n      <td>0.036665</td>\n      <td>70.352941</td>\n      <td>2122.294118</td>\n      <td>30.507007</td>\n      <td>137.470588</td>\n      <td>0.071274</td>\n      <td>561.941176</td>\n      <td>8.091570</td>\n      <td>0.264949</td>\n    </tr>\n    <tr>\n      <th>2 Chainz</th>\n      <td>0.018329</td>\n      <td>0.023071</td>\n      <td>0.021967</td>\n      <td>0.006407</td>\n      <td>68.333333</td>\n      <td>2240.666667</td>\n      <td>32.916186</td>\n      <td>194.111111</td>\n      <td>0.090778</td>\n      <td>590.000000</td>\n      <td>8.641371</td>\n      <td>0.262462</td>\n    </tr>\n    <tr>\n      <th>2 Pistols</th>\n      <td>0.013755</td>\n      <td>0.030431</td>\n      <td>0.018532</td>\n      <td>0.021855</td>\n      <td>78.545455</td>\n      <td>2203.181818</td>\n      <td>28.376804</td>\n      <td>178.272727</td>\n      <td>0.085574</td>\n      <td>562.272727</td>\n      <td>7.243027</td>\n      <td>0.255224</td>\n    </tr>\n    <tr>\n      <th>21 Savage</th>\n      <td>0.007464</td>\n      <td>0.046448</td>\n      <td>0.046098</td>\n      <td>0.008801</td>\n      <td>81.904762</td>\n      <td>2764.666667</td>\n      <td>33.424155</td>\n      <td>189.095238</td>\n      <td>0.070440</td>\n      <td>706.047619</td>\n      <td>8.484020</td>\n      <td>0.253769</td>\n    </tr>\n    <tr>\n      <th>...</th>\n      <td>...</td>\n      <td>...</td>\n      <td>...</td>\n      <td>...</td>\n      <td>...</td>\n      <td>...</td>\n      <td>...</td>\n      <td>...</td>\n      <td>...</td>\n      <td>...</td>\n      <td>...</td>\n      <td>...</td>\n    </tr>\n    <tr>\n      <th>Zebra Katz</th>\n      <td>0.025077</td>\n      <td>0.012421</td>\n      <td>0.018921</td>\n      <td>0.016527</td>\n      <td>67.666667</td>\n      <td>1737.833333</td>\n      <td>25.122420</td>\n      <td>132.944444</td>\n      <td>0.087163</td>\n      <td>451.888889</td>\n      <td>6.521429</td>\n      <td>0.259716</td>\n    </tr>\n    <tr>\n      <th>Zelooperz</th>\n      <td>0.018682</td>\n      <td>0.037817</td>\n      <td>0.003213</td>\n      <td>0.006282</td>\n      <td>57.636364</td>\n      <td>1636.636364</td>\n      <td>29.884914</td>\n      <td>151.060606</td>\n      <td>0.095839</td>\n      <td>422.696970</td>\n      <td>7.746176</td>\n      <td>0.258715</td>\n    </tr>\n    <tr>\n      <th>Zion I</th>\n      <td>0.031290</td>\n      <td>0.000425</td>\n      <td>0.003131</td>\n      <td>0.006091</td>\n      <td>60.300000</td>\n      <td>2030.800000</td>\n      <td>34.300381</td>\n      <td>210.200000</td>\n      <td>0.104322</td>\n      <td>532.600000</td>\n      <td>8.986945</td>\n      <td>0.262015</td>\n    </tr>\n    <tr>\n      <th>bbno$</th>\n      <td>0.009183</td>\n      <td>0.010923</td>\n      <td>0.004047</td>\n      <td>0.009563</td>\n      <td>53.000000</td>\n      <td>1655.666667</td>\n      <td>31.152735</td>\n      <td>92.333333</td>\n      <td>0.055000</td>\n      <td>456.000000</td>\n      <td>8.575163</td>\n      <td>0.275106</td>\n    </tr>\n    <tr>\n      <th>will.i.am</th>\n      <td>0.004096</td>\n      <td>0.019755</td>\n      <td>0.047252</td>\n      <td>0.040928</td>\n      <td>77.200000</td>\n      <td>2503.800000</td>\n      <td>33.323155</td>\n      <td>163.733333</td>\n      <td>0.067369</td>\n      <td>652.666667</td>\n      <td>8.664136</td>\n      <td>0.259974</td>\n    </tr>\n  </tbody>\n</table>\n<p>1260 rows × 12 columns</p>\n</div>"
     },
     "metadata": {},
     "execution_count": 29
    }
   ],
   "source": [
    "artist_features = artist_mean_topic.join(artist_mean_taxis, how='inner').join(artist_mean_prosody, how='inner')\n",
    "artist_features"
   ]
  },
  {
   "cell_type": "code",
   "execution_count": 30,
   "metadata": {},
   "outputs": [],
   "source": [
    "with open('artist_features.pkl', 'wb') as f:\n",
    "    pkl.dump(artist_features, f)"
   ]
  },
  {
   "cell_type": "code",
   "execution_count": null,
   "metadata": {},
   "outputs": [],
   "source": []
  }
 ]
}